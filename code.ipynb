{
  "cells": [
    {
      "cell_type": "markdown",
      "metadata": {
        "id": "Vj_r89FzT41w"
      },
      "source": [
        "##**BITS F464 - Semester 1 - MACHINE LEARNING**\n",
        "--------------------------------------------------------------------------------\n",
        "\n",
        "**PROJECT - MACHINE LEARNING FOR SUSTAINABLE DEVELOPMENT GOALS (SDGs)**\n",
        "--------------------------------------------------------------------------------\n",
        "***Team number:*** 14\n",
        "\n",
        "---\n",
        "(*In Title case, separated with commas*)\n",
        "***Full names of all students in the team:*** Adithyashailender Umesh,Amarjeet Mohanty,Dhananjay Rao TS,Bilal Shaikh,Abhishek Kali Madki\n",
        "\n",
        "---\n",
        "(*Separated by commas*)\n",
        "***Id number of all students in the team:*** 2021AAPS2220H,2021AAPS0560H,2021AAPS0321H,2021A3PS0855H,2021AAPS0550H\n"
      ]
    },
    {
      "cell_type": "markdown",
      "metadata": {
        "id": "Z_duS0Zn17c3"
      },
      "source": [
        "Please refer to the email providing the assignment of project and follow the instructions provided in the project brief.\n"
      ]
    },
    {
      "cell_type": "markdown",
      "metadata": {
        "id": "yT-dTtra2h2n"
      },
      "source": [
        "# **_1. Preprocessing of Dataset_**"
      ]
    },
    {
      "cell_type": "code",
      "execution_count": null,
      "metadata": {
        "id": "KnnBvyeq50rk"
      },
      "outputs": [],
      "source": [
        "import pandas as pd\n",
        "import numpy as np\n",
        "import matplotlib.pyplot as plt\n",
        "import seaborn as sns\n",
        "from scipy.stats import chi2"
      ]
    },
    {
      "cell_type": "markdown",
      "metadata": {
        "id": "2UsOVUj22wrz"
      },
      "source": [
        "## Loading Data and Handling Missing values"
      ]
    },
    {
      "cell_type": "markdown",
      "metadata": {
        "id": "GldliOPc50rl"
      },
      "source": [
        "We have obtained the names of the columns and have added them into the pandas dataframe while loadin"
      ]
    },
    {
      "cell_type": "code",
      "execution_count": null,
      "metadata": {
        "id": "N8uONwSjNSc-",
        "colab": {
          "base_uri": "https://localhost:8080/",
          "height": 206
        },
        "outputId": "54a53e0a-47de-4dbb-b52d-3ef4be6d5027"
      },
      "outputs": [
        {
          "output_type": "execute_result",
          "data": {
            "text/plain": [
              "    hospital  age  sex  cp trestbps chol fbs restecg thalach exang oldpeak  \\\n",
              "0  Cleveland   63    1   1      145  233   1       2     150     0     2.3   \n",
              "1  Cleveland   67    1   4      160  286   0       2     108     1     1.5   \n",
              "2  Cleveland   67    1   4      120  229   0       2     129     1     2.6   \n",
              "3  Cleveland   37    1   3      130  250   0       0     187     0     3.5   \n",
              "4  Cleveland   41    0   2      130  204   0       2     172     0     1.4   \n",
              "\n",
              "  slope ca thal  num  \n",
              "0     3  0    6    0  \n",
              "1     2  3    3    2  \n",
              "2     2  2    7    1  \n",
              "3     3  0    3    0  \n",
              "4     1  0    3    0  "
            ],
            "text/html": [
              "\n",
              "  <div id=\"df-e173a89b-7f62-41b4-842f-c9ecc5525e41\" class=\"colab-df-container\">\n",
              "    <div>\n",
              "<style scoped>\n",
              "    .dataframe tbody tr th:only-of-type {\n",
              "        vertical-align: middle;\n",
              "    }\n",
              "\n",
              "    .dataframe tbody tr th {\n",
              "        vertical-align: top;\n",
              "    }\n",
              "\n",
              "    .dataframe thead th {\n",
              "        text-align: right;\n",
              "    }\n",
              "</style>\n",
              "<table border=\"1\" class=\"dataframe\">\n",
              "  <thead>\n",
              "    <tr style=\"text-align: right;\">\n",
              "      <th></th>\n",
              "      <th>hospital</th>\n",
              "      <th>age</th>\n",
              "      <th>sex</th>\n",
              "      <th>cp</th>\n",
              "      <th>trestbps</th>\n",
              "      <th>chol</th>\n",
              "      <th>fbs</th>\n",
              "      <th>restecg</th>\n",
              "      <th>thalach</th>\n",
              "      <th>exang</th>\n",
              "      <th>oldpeak</th>\n",
              "      <th>slope</th>\n",
              "      <th>ca</th>\n",
              "      <th>thal</th>\n",
              "      <th>num</th>\n",
              "    </tr>\n",
              "  </thead>\n",
              "  <tbody>\n",
              "    <tr>\n",
              "      <th>0</th>\n",
              "      <td>Cleveland</td>\n",
              "      <td>63</td>\n",
              "      <td>1</td>\n",
              "      <td>1</td>\n",
              "      <td>145</td>\n",
              "      <td>233</td>\n",
              "      <td>1</td>\n",
              "      <td>2</td>\n",
              "      <td>150</td>\n",
              "      <td>0</td>\n",
              "      <td>2.3</td>\n",
              "      <td>3</td>\n",
              "      <td>0</td>\n",
              "      <td>6</td>\n",
              "      <td>0</td>\n",
              "    </tr>\n",
              "    <tr>\n",
              "      <th>1</th>\n",
              "      <td>Cleveland</td>\n",
              "      <td>67</td>\n",
              "      <td>1</td>\n",
              "      <td>4</td>\n",
              "      <td>160</td>\n",
              "      <td>286</td>\n",
              "      <td>0</td>\n",
              "      <td>2</td>\n",
              "      <td>108</td>\n",
              "      <td>1</td>\n",
              "      <td>1.5</td>\n",
              "      <td>2</td>\n",
              "      <td>3</td>\n",
              "      <td>3</td>\n",
              "      <td>2</td>\n",
              "    </tr>\n",
              "    <tr>\n",
              "      <th>2</th>\n",
              "      <td>Cleveland</td>\n",
              "      <td>67</td>\n",
              "      <td>1</td>\n",
              "      <td>4</td>\n",
              "      <td>120</td>\n",
              "      <td>229</td>\n",
              "      <td>0</td>\n",
              "      <td>2</td>\n",
              "      <td>129</td>\n",
              "      <td>1</td>\n",
              "      <td>2.6</td>\n",
              "      <td>2</td>\n",
              "      <td>2</td>\n",
              "      <td>7</td>\n",
              "      <td>1</td>\n",
              "    </tr>\n",
              "    <tr>\n",
              "      <th>3</th>\n",
              "      <td>Cleveland</td>\n",
              "      <td>37</td>\n",
              "      <td>1</td>\n",
              "      <td>3</td>\n",
              "      <td>130</td>\n",
              "      <td>250</td>\n",
              "      <td>0</td>\n",
              "      <td>0</td>\n",
              "      <td>187</td>\n",
              "      <td>0</td>\n",
              "      <td>3.5</td>\n",
              "      <td>3</td>\n",
              "      <td>0</td>\n",
              "      <td>3</td>\n",
              "      <td>0</td>\n",
              "    </tr>\n",
              "    <tr>\n",
              "      <th>4</th>\n",
              "      <td>Cleveland</td>\n",
              "      <td>41</td>\n",
              "      <td>0</td>\n",
              "      <td>2</td>\n",
              "      <td>130</td>\n",
              "      <td>204</td>\n",
              "      <td>0</td>\n",
              "      <td>2</td>\n",
              "      <td>172</td>\n",
              "      <td>0</td>\n",
              "      <td>1.4</td>\n",
              "      <td>1</td>\n",
              "      <td>0</td>\n",
              "      <td>3</td>\n",
              "      <td>0</td>\n",
              "    </tr>\n",
              "  </tbody>\n",
              "</table>\n",
              "</div>\n",
              "    <div class=\"colab-df-buttons\">\n",
              "\n",
              "  <div class=\"colab-df-container\">\n",
              "    <button class=\"colab-df-convert\" onclick=\"convertToInteractive('df-e173a89b-7f62-41b4-842f-c9ecc5525e41')\"\n",
              "            title=\"Convert this dataframe to an interactive table.\"\n",
              "            style=\"display:none;\">\n",
              "\n",
              "  <svg xmlns=\"http://www.w3.org/2000/svg\" height=\"24px\" viewBox=\"0 -960 960 960\">\n",
              "    <path d=\"M120-120v-720h720v720H120Zm60-500h600v-160H180v160Zm220 220h160v-160H400v160Zm0 220h160v-160H400v160ZM180-400h160v-160H180v160Zm440 0h160v-160H620v160ZM180-180h160v-160H180v160Zm440 0h160v-160H620v160Z\"/>\n",
              "  </svg>\n",
              "    </button>\n",
              "\n",
              "  <style>\n",
              "    .colab-df-container {\n",
              "      display:flex;\n",
              "      gap: 12px;\n",
              "    }\n",
              "\n",
              "    .colab-df-convert {\n",
              "      background-color: #E8F0FE;\n",
              "      border: none;\n",
              "      border-radius: 50%;\n",
              "      cursor: pointer;\n",
              "      display: none;\n",
              "      fill: #1967D2;\n",
              "      height: 32px;\n",
              "      padding: 0 0 0 0;\n",
              "      width: 32px;\n",
              "    }\n",
              "\n",
              "    .colab-df-convert:hover {\n",
              "      background-color: #E2EBFA;\n",
              "      box-shadow: 0px 1px 2px rgba(60, 64, 67, 0.3), 0px 1px 3px 1px rgba(60, 64, 67, 0.15);\n",
              "      fill: #174EA6;\n",
              "    }\n",
              "\n",
              "    .colab-df-buttons div {\n",
              "      margin-bottom: 4px;\n",
              "    }\n",
              "\n",
              "    [theme=dark] .colab-df-convert {\n",
              "      background-color: #3B4455;\n",
              "      fill: #D2E3FC;\n",
              "    }\n",
              "\n",
              "    [theme=dark] .colab-df-convert:hover {\n",
              "      background-color: #434B5C;\n",
              "      box-shadow: 0px 1px 3px 1px rgba(0, 0, 0, 0.15);\n",
              "      filter: drop-shadow(0px 1px 2px rgba(0, 0, 0, 0.3));\n",
              "      fill: #FFFFFF;\n",
              "    }\n",
              "  </style>\n",
              "\n",
              "    <script>\n",
              "      const buttonEl =\n",
              "        document.querySelector('#df-e173a89b-7f62-41b4-842f-c9ecc5525e41 button.colab-df-convert');\n",
              "      buttonEl.style.display =\n",
              "        google.colab.kernel.accessAllowed ? 'block' : 'none';\n",
              "\n",
              "      async function convertToInteractive(key) {\n",
              "        const element = document.querySelector('#df-e173a89b-7f62-41b4-842f-c9ecc5525e41');\n",
              "        const dataTable =\n",
              "          await google.colab.kernel.invokeFunction('convertToInteractive',\n",
              "                                                    [key], {});\n",
              "        if (!dataTable) return;\n",
              "\n",
              "        const docLinkHtml = 'Like what you see? Visit the ' +\n",
              "          '<a target=\"_blank\" href=https://colab.research.google.com/notebooks/data_table.ipynb>data table notebook</a>'\n",
              "          + ' to learn more about interactive tables.';\n",
              "        element.innerHTML = '';\n",
              "        dataTable['output_type'] = 'display_data';\n",
              "        await google.colab.output.renderOutput(dataTable, element);\n",
              "        const docLink = document.createElement('div');\n",
              "        docLink.innerHTML = docLinkHtml;\n",
              "        element.appendChild(docLink);\n",
              "      }\n",
              "    </script>\n",
              "  </div>\n",
              "\n",
              "\n",
              "<div id=\"df-66b54373-b04a-4624-a408-2c587f33d3ed\">\n",
              "  <button class=\"colab-df-quickchart\" onclick=\"quickchart('df-66b54373-b04a-4624-a408-2c587f33d3ed')\"\n",
              "            title=\"Suggest charts\"\n",
              "            style=\"display:none;\">\n",
              "\n",
              "<svg xmlns=\"http://www.w3.org/2000/svg\" height=\"24px\"viewBox=\"0 0 24 24\"\n",
              "     width=\"24px\">\n",
              "    <g>\n",
              "        <path d=\"M19 3H5c-1.1 0-2 .9-2 2v14c0 1.1.9 2 2 2h14c1.1 0 2-.9 2-2V5c0-1.1-.9-2-2-2zM9 17H7v-7h2v7zm4 0h-2V7h2v10zm4 0h-2v-4h2v4z\"/>\n",
              "    </g>\n",
              "</svg>\n",
              "  </button>\n",
              "\n",
              "<style>\n",
              "  .colab-df-quickchart {\n",
              "      --bg-color: #E8F0FE;\n",
              "      --fill-color: #1967D2;\n",
              "      --hover-bg-color: #E2EBFA;\n",
              "      --hover-fill-color: #174EA6;\n",
              "      --disabled-fill-color: #AAA;\n",
              "      --disabled-bg-color: #DDD;\n",
              "  }\n",
              "\n",
              "  [theme=dark] .colab-df-quickchart {\n",
              "      --bg-color: #3B4455;\n",
              "      --fill-color: #D2E3FC;\n",
              "      --hover-bg-color: #434B5C;\n",
              "      --hover-fill-color: #FFFFFF;\n",
              "      --disabled-bg-color: #3B4455;\n",
              "      --disabled-fill-color: #666;\n",
              "  }\n",
              "\n",
              "  .colab-df-quickchart {\n",
              "    background-color: var(--bg-color);\n",
              "    border: none;\n",
              "    border-radius: 50%;\n",
              "    cursor: pointer;\n",
              "    display: none;\n",
              "    fill: var(--fill-color);\n",
              "    height: 32px;\n",
              "    padding: 0;\n",
              "    width: 32px;\n",
              "  }\n",
              "\n",
              "  .colab-df-quickchart:hover {\n",
              "    background-color: var(--hover-bg-color);\n",
              "    box-shadow: 0 1px 2px rgba(60, 64, 67, 0.3), 0 1px 3px 1px rgba(60, 64, 67, 0.15);\n",
              "    fill: var(--button-hover-fill-color);\n",
              "  }\n",
              "\n",
              "  .colab-df-quickchart-complete:disabled,\n",
              "  .colab-df-quickchart-complete:disabled:hover {\n",
              "    background-color: var(--disabled-bg-color);\n",
              "    fill: var(--disabled-fill-color);\n",
              "    box-shadow: none;\n",
              "  }\n",
              "\n",
              "  .colab-df-spinner {\n",
              "    border: 2px solid var(--fill-color);\n",
              "    border-color: transparent;\n",
              "    border-bottom-color: var(--fill-color);\n",
              "    animation:\n",
              "      spin 1s steps(1) infinite;\n",
              "  }\n",
              "\n",
              "  @keyframes spin {\n",
              "    0% {\n",
              "      border-color: transparent;\n",
              "      border-bottom-color: var(--fill-color);\n",
              "      border-left-color: var(--fill-color);\n",
              "    }\n",
              "    20% {\n",
              "      border-color: transparent;\n",
              "      border-left-color: var(--fill-color);\n",
              "      border-top-color: var(--fill-color);\n",
              "    }\n",
              "    30% {\n",
              "      border-color: transparent;\n",
              "      border-left-color: var(--fill-color);\n",
              "      border-top-color: var(--fill-color);\n",
              "      border-right-color: var(--fill-color);\n",
              "    }\n",
              "    40% {\n",
              "      border-color: transparent;\n",
              "      border-right-color: var(--fill-color);\n",
              "      border-top-color: var(--fill-color);\n",
              "    }\n",
              "    60% {\n",
              "      border-color: transparent;\n",
              "      border-right-color: var(--fill-color);\n",
              "    }\n",
              "    80% {\n",
              "      border-color: transparent;\n",
              "      border-right-color: var(--fill-color);\n",
              "      border-bottom-color: var(--fill-color);\n",
              "    }\n",
              "    90% {\n",
              "      border-color: transparent;\n",
              "      border-bottom-color: var(--fill-color);\n",
              "    }\n",
              "  }\n",
              "</style>\n",
              "\n",
              "  <script>\n",
              "    async function quickchart(key) {\n",
              "      const quickchartButtonEl =\n",
              "        document.querySelector('#' + key + ' button');\n",
              "      quickchartButtonEl.disabled = true;  // To prevent multiple clicks.\n",
              "      quickchartButtonEl.classList.add('colab-df-spinner');\n",
              "      try {\n",
              "        const charts = await google.colab.kernel.invokeFunction(\n",
              "            'suggestCharts', [key], {});\n",
              "      } catch (error) {\n",
              "        console.error('Error during call to suggestCharts:', error);\n",
              "      }\n",
              "      quickchartButtonEl.classList.remove('colab-df-spinner');\n",
              "      quickchartButtonEl.classList.add('colab-df-quickchart-complete');\n",
              "    }\n",
              "    (() => {\n",
              "      let quickchartButtonEl =\n",
              "        document.querySelector('#df-66b54373-b04a-4624-a408-2c587f33d3ed button');\n",
              "      quickchartButtonEl.style.display =\n",
              "        google.colab.kernel.accessAllowed ? 'block' : 'none';\n",
              "    })();\n",
              "  </script>\n",
              "</div>\n",
              "    </div>\n",
              "  </div>\n"
            ]
          },
          "metadata": {},
          "execution_count": 4
        }
      ],
      "source": [
        "\n",
        "columns=[\"hospital\",\n",
        "\"age\",\n",
        "\"sex\",\n",
        "\"cp\",\n",
        "\"trestbps\",\n",
        "\"chol\",\n",
        "\"fbs\",\n",
        "\"restecg\",\n",
        "\"thalach\",\n",
        "\"exang\",\n",
        "\"oldpeak\",\n",
        "\"slope\",\n",
        "\"ca\",\n",
        "\"thal\",\n",
        "\"num\"\n",
        "]\n",
        "df=pd.read_excel(\"Heart_Disease.xlsx\",header=None,names=columns)\n",
        "df.head()"
      ]
    },
    {
      "cell_type": "markdown",
      "metadata": {
        "id": "2DnQ_q6o50rl"
      },
      "source": [
        "There are 15 columns in the dataset , num is the output column and is a categorical variable. Of the remaining features 4 are continous with the rest being categorical"
      ]
    },
    {
      "cell_type": "code",
      "execution_count": null,
      "metadata": {
        "colab": {
          "base_uri": "https://localhost:8080/"
        },
        "id": "pwRkJqaE50rm",
        "outputId": "6aa15373-0fe7-4bd6-9923-14e5bb8fb16f"
      },
      "outputs": [
        {
          "output_type": "stream",
          "name": "stdout",
          "text": [
            "<class 'pandas.core.frame.DataFrame'>\n",
            "RangeIndex: 920 entries, 0 to 919\n",
            "Data columns (total 15 columns):\n",
            " #   Column    Non-Null Count  Dtype \n",
            "---  ------    --------------  ----- \n",
            " 0   hospital  920 non-null    object\n",
            " 1   age       920 non-null    int64 \n",
            " 2   sex       920 non-null    int64 \n",
            " 3   cp        920 non-null    int64 \n",
            " 4   trestbps  920 non-null    object\n",
            " 5   chol      920 non-null    object\n",
            " 6   fbs       920 non-null    object\n",
            " 7   restecg   920 non-null    object\n",
            " 8   thalach   920 non-null    object\n",
            " 9   exang     920 non-null    object\n",
            " 10  oldpeak   920 non-null    object\n",
            " 11  slope     920 non-null    object\n",
            " 12  ca        920 non-null    object\n",
            " 13  thal      920 non-null    object\n",
            " 14  num       920 non-null    int64 \n",
            "dtypes: int64(4), object(11)\n",
            "memory usage: 107.9+ KB\n"
          ]
        }
      ],
      "source": [
        "df.info()"
      ]
    },
    {
      "cell_type": "markdown",
      "metadata": {
        "id": "oGyI0V2k50rm"
      },
      "source": [
        "Exploring the various statistical properties of the continous features"
      ]
    },
    {
      "cell_type": "code",
      "execution_count": null,
      "metadata": {
        "colab": {
          "base_uri": "https://localhost:8080/",
          "height": 300
        },
        "id": "0Pkl28N_50rm",
        "outputId": "5f4488c7-e361-403c-a5b9-4e92f2ec9ed7"
      },
      "outputs": [
        {
          "output_type": "execute_result",
          "data": {
            "text/plain": [
              "              age         sex          cp         num\n",
              "count  920.000000  920.000000  920.000000  920.000000\n",
              "mean    53.510870    0.789130    3.250000    0.995652\n",
              "std      9.424685    0.408148    0.930969    1.142693\n",
              "min     28.000000    0.000000    1.000000    0.000000\n",
              "25%     47.000000    1.000000    3.000000    0.000000\n",
              "50%     54.000000    1.000000    4.000000    1.000000\n",
              "75%     60.000000    1.000000    4.000000    2.000000\n",
              "max     77.000000    1.000000    4.000000    4.000000"
            ],
            "text/html": [
              "\n",
              "  <div id=\"df-eac00b8c-6a28-4cb6-96fc-239e352e2059\" class=\"colab-df-container\">\n",
              "    <div>\n",
              "<style scoped>\n",
              "    .dataframe tbody tr th:only-of-type {\n",
              "        vertical-align: middle;\n",
              "    }\n",
              "\n",
              "    .dataframe tbody tr th {\n",
              "        vertical-align: top;\n",
              "    }\n",
              "\n",
              "    .dataframe thead th {\n",
              "        text-align: right;\n",
              "    }\n",
              "</style>\n",
              "<table border=\"1\" class=\"dataframe\">\n",
              "  <thead>\n",
              "    <tr style=\"text-align: right;\">\n",
              "      <th></th>\n",
              "      <th>age</th>\n",
              "      <th>sex</th>\n",
              "      <th>cp</th>\n",
              "      <th>num</th>\n",
              "    </tr>\n",
              "  </thead>\n",
              "  <tbody>\n",
              "    <tr>\n",
              "      <th>count</th>\n",
              "      <td>920.000000</td>\n",
              "      <td>920.000000</td>\n",
              "      <td>920.000000</td>\n",
              "      <td>920.000000</td>\n",
              "    </tr>\n",
              "    <tr>\n",
              "      <th>mean</th>\n",
              "      <td>53.510870</td>\n",
              "      <td>0.789130</td>\n",
              "      <td>3.250000</td>\n",
              "      <td>0.995652</td>\n",
              "    </tr>\n",
              "    <tr>\n",
              "      <th>std</th>\n",
              "      <td>9.424685</td>\n",
              "      <td>0.408148</td>\n",
              "      <td>0.930969</td>\n",
              "      <td>1.142693</td>\n",
              "    </tr>\n",
              "    <tr>\n",
              "      <th>min</th>\n",
              "      <td>28.000000</td>\n",
              "      <td>0.000000</td>\n",
              "      <td>1.000000</td>\n",
              "      <td>0.000000</td>\n",
              "    </tr>\n",
              "    <tr>\n",
              "      <th>25%</th>\n",
              "      <td>47.000000</td>\n",
              "      <td>1.000000</td>\n",
              "      <td>3.000000</td>\n",
              "      <td>0.000000</td>\n",
              "    </tr>\n",
              "    <tr>\n",
              "      <th>50%</th>\n",
              "      <td>54.000000</td>\n",
              "      <td>1.000000</td>\n",
              "      <td>4.000000</td>\n",
              "      <td>1.000000</td>\n",
              "    </tr>\n",
              "    <tr>\n",
              "      <th>75%</th>\n",
              "      <td>60.000000</td>\n",
              "      <td>1.000000</td>\n",
              "      <td>4.000000</td>\n",
              "      <td>2.000000</td>\n",
              "    </tr>\n",
              "    <tr>\n",
              "      <th>max</th>\n",
              "      <td>77.000000</td>\n",
              "      <td>1.000000</td>\n",
              "      <td>4.000000</td>\n",
              "      <td>4.000000</td>\n",
              "    </tr>\n",
              "  </tbody>\n",
              "</table>\n",
              "</div>\n",
              "    <div class=\"colab-df-buttons\">\n",
              "\n",
              "  <div class=\"colab-df-container\">\n",
              "    <button class=\"colab-df-convert\" onclick=\"convertToInteractive('df-eac00b8c-6a28-4cb6-96fc-239e352e2059')\"\n",
              "            title=\"Convert this dataframe to an interactive table.\"\n",
              "            style=\"display:none;\">\n",
              "\n",
              "  <svg xmlns=\"http://www.w3.org/2000/svg\" height=\"24px\" viewBox=\"0 -960 960 960\">\n",
              "    <path d=\"M120-120v-720h720v720H120Zm60-500h600v-160H180v160Zm220 220h160v-160H400v160Zm0 220h160v-160H400v160ZM180-400h160v-160H180v160Zm440 0h160v-160H620v160ZM180-180h160v-160H180v160Zm440 0h160v-160H620v160Z\"/>\n",
              "  </svg>\n",
              "    </button>\n",
              "\n",
              "  <style>\n",
              "    .colab-df-container {\n",
              "      display:flex;\n",
              "      gap: 12px;\n",
              "    }\n",
              "\n",
              "    .colab-df-convert {\n",
              "      background-color: #E8F0FE;\n",
              "      border: none;\n",
              "      border-radius: 50%;\n",
              "      cursor: pointer;\n",
              "      display: none;\n",
              "      fill: #1967D2;\n",
              "      height: 32px;\n",
              "      padding: 0 0 0 0;\n",
              "      width: 32px;\n",
              "    }\n",
              "\n",
              "    .colab-df-convert:hover {\n",
              "      background-color: #E2EBFA;\n",
              "      box-shadow: 0px 1px 2px rgba(60, 64, 67, 0.3), 0px 1px 3px 1px rgba(60, 64, 67, 0.15);\n",
              "      fill: #174EA6;\n",
              "    }\n",
              "\n",
              "    .colab-df-buttons div {\n",
              "      margin-bottom: 4px;\n",
              "    }\n",
              "\n",
              "    [theme=dark] .colab-df-convert {\n",
              "      background-color: #3B4455;\n",
              "      fill: #D2E3FC;\n",
              "    }\n",
              "\n",
              "    [theme=dark] .colab-df-convert:hover {\n",
              "      background-color: #434B5C;\n",
              "      box-shadow: 0px 1px 3px 1px rgba(0, 0, 0, 0.15);\n",
              "      filter: drop-shadow(0px 1px 2px rgba(0, 0, 0, 0.3));\n",
              "      fill: #FFFFFF;\n",
              "    }\n",
              "  </style>\n",
              "\n",
              "    <script>\n",
              "      const buttonEl =\n",
              "        document.querySelector('#df-eac00b8c-6a28-4cb6-96fc-239e352e2059 button.colab-df-convert');\n",
              "      buttonEl.style.display =\n",
              "        google.colab.kernel.accessAllowed ? 'block' : 'none';\n",
              "\n",
              "      async function convertToInteractive(key) {\n",
              "        const element = document.querySelector('#df-eac00b8c-6a28-4cb6-96fc-239e352e2059');\n",
              "        const dataTable =\n",
              "          await google.colab.kernel.invokeFunction('convertToInteractive',\n",
              "                                                    [key], {});\n",
              "        if (!dataTable) return;\n",
              "\n",
              "        const docLinkHtml = 'Like what you see? Visit the ' +\n",
              "          '<a target=\"_blank\" href=https://colab.research.google.com/notebooks/data_table.ipynb>data table notebook</a>'\n",
              "          + ' to learn more about interactive tables.';\n",
              "        element.innerHTML = '';\n",
              "        dataTable['output_type'] = 'display_data';\n",
              "        await google.colab.output.renderOutput(dataTable, element);\n",
              "        const docLink = document.createElement('div');\n",
              "        docLink.innerHTML = docLinkHtml;\n",
              "        element.appendChild(docLink);\n",
              "      }\n",
              "    </script>\n",
              "  </div>\n",
              "\n",
              "\n",
              "<div id=\"df-85766491-af59-4c6e-b2f0-1ef6d37a8cdb\">\n",
              "  <button class=\"colab-df-quickchart\" onclick=\"quickchart('df-85766491-af59-4c6e-b2f0-1ef6d37a8cdb')\"\n",
              "            title=\"Suggest charts\"\n",
              "            style=\"display:none;\">\n",
              "\n",
              "<svg xmlns=\"http://www.w3.org/2000/svg\" height=\"24px\"viewBox=\"0 0 24 24\"\n",
              "     width=\"24px\">\n",
              "    <g>\n",
              "        <path d=\"M19 3H5c-1.1 0-2 .9-2 2v14c0 1.1.9 2 2 2h14c1.1 0 2-.9 2-2V5c0-1.1-.9-2-2-2zM9 17H7v-7h2v7zm4 0h-2V7h2v10zm4 0h-2v-4h2v4z\"/>\n",
              "    </g>\n",
              "</svg>\n",
              "  </button>\n",
              "\n",
              "<style>\n",
              "  .colab-df-quickchart {\n",
              "      --bg-color: #E8F0FE;\n",
              "      --fill-color: #1967D2;\n",
              "      --hover-bg-color: #E2EBFA;\n",
              "      --hover-fill-color: #174EA6;\n",
              "      --disabled-fill-color: #AAA;\n",
              "      --disabled-bg-color: #DDD;\n",
              "  }\n",
              "\n",
              "  [theme=dark] .colab-df-quickchart {\n",
              "      --bg-color: #3B4455;\n",
              "      --fill-color: #D2E3FC;\n",
              "      --hover-bg-color: #434B5C;\n",
              "      --hover-fill-color: #FFFFFF;\n",
              "      --disabled-bg-color: #3B4455;\n",
              "      --disabled-fill-color: #666;\n",
              "  }\n",
              "\n",
              "  .colab-df-quickchart {\n",
              "    background-color: var(--bg-color);\n",
              "    border: none;\n",
              "    border-radius: 50%;\n",
              "    cursor: pointer;\n",
              "    display: none;\n",
              "    fill: var(--fill-color);\n",
              "    height: 32px;\n",
              "    padding: 0;\n",
              "    width: 32px;\n",
              "  }\n",
              "\n",
              "  .colab-df-quickchart:hover {\n",
              "    background-color: var(--hover-bg-color);\n",
              "    box-shadow: 0 1px 2px rgba(60, 64, 67, 0.3), 0 1px 3px 1px rgba(60, 64, 67, 0.15);\n",
              "    fill: var(--button-hover-fill-color);\n",
              "  }\n",
              "\n",
              "  .colab-df-quickchart-complete:disabled,\n",
              "  .colab-df-quickchart-complete:disabled:hover {\n",
              "    background-color: var(--disabled-bg-color);\n",
              "    fill: var(--disabled-fill-color);\n",
              "    box-shadow: none;\n",
              "  }\n",
              "\n",
              "  .colab-df-spinner {\n",
              "    border: 2px solid var(--fill-color);\n",
              "    border-color: transparent;\n",
              "    border-bottom-color: var(--fill-color);\n",
              "    animation:\n",
              "      spin 1s steps(1) infinite;\n",
              "  }\n",
              "\n",
              "  @keyframes spin {\n",
              "    0% {\n",
              "      border-color: transparent;\n",
              "      border-bottom-color: var(--fill-color);\n",
              "      border-left-color: var(--fill-color);\n",
              "    }\n",
              "    20% {\n",
              "      border-color: transparent;\n",
              "      border-left-color: var(--fill-color);\n",
              "      border-top-color: var(--fill-color);\n",
              "    }\n",
              "    30% {\n",
              "      border-color: transparent;\n",
              "      border-left-color: var(--fill-color);\n",
              "      border-top-color: var(--fill-color);\n",
              "      border-right-color: var(--fill-color);\n",
              "    }\n",
              "    40% {\n",
              "      border-color: transparent;\n",
              "      border-right-color: var(--fill-color);\n",
              "      border-top-color: var(--fill-color);\n",
              "    }\n",
              "    60% {\n",
              "      border-color: transparent;\n",
              "      border-right-color: var(--fill-color);\n",
              "    }\n",
              "    80% {\n",
              "      border-color: transparent;\n",
              "      border-right-color: var(--fill-color);\n",
              "      border-bottom-color: var(--fill-color);\n",
              "    }\n",
              "    90% {\n",
              "      border-color: transparent;\n",
              "      border-bottom-color: var(--fill-color);\n",
              "    }\n",
              "  }\n",
              "</style>\n",
              "\n",
              "  <script>\n",
              "    async function quickchart(key) {\n",
              "      const quickchartButtonEl =\n",
              "        document.querySelector('#' + key + ' button');\n",
              "      quickchartButtonEl.disabled = true;  // To prevent multiple clicks.\n",
              "      quickchartButtonEl.classList.add('colab-df-spinner');\n",
              "      try {\n",
              "        const charts = await google.colab.kernel.invokeFunction(\n",
              "            'suggestCharts', [key], {});\n",
              "      } catch (error) {\n",
              "        console.error('Error during call to suggestCharts:', error);\n",
              "      }\n",
              "      quickchartButtonEl.classList.remove('colab-df-spinner');\n",
              "      quickchartButtonEl.classList.add('colab-df-quickchart-complete');\n",
              "    }\n",
              "    (() => {\n",
              "      let quickchartButtonEl =\n",
              "        document.querySelector('#df-85766491-af59-4c6e-b2f0-1ef6d37a8cdb button');\n",
              "      quickchartButtonEl.style.display =\n",
              "        google.colab.kernel.accessAllowed ? 'block' : 'none';\n",
              "    })();\n",
              "  </script>\n",
              "</div>\n",
              "    </div>\n",
              "  </div>\n"
            ]
          },
          "metadata": {},
          "execution_count": 6
        }
      ],
      "source": [
        "\n",
        "df.describe()"
      ]
    },
    {
      "cell_type": "markdown",
      "metadata": {
        "id": "1tlhNdhQ50rm"
      },
      "source": [
        "On counting the null or nan values in the dataset we are returned with 0, that indicates that there are no missing values.This seems unlikely and needs further verification."
      ]
    },
    {
      "cell_type": "code",
      "execution_count": null,
      "metadata": {
        "colab": {
          "base_uri": "https://localhost:8080/"
        },
        "id": "nLumQ1Zm50rm",
        "outputId": "4ffaad7b-2c63-41eb-b2d0-9f1aa5e99124"
      },
      "outputs": [
        {
          "output_type": "execute_result",
          "data": {
            "text/plain": [
              "hospital    0\n",
              "age         0\n",
              "sex         0\n",
              "cp          0\n",
              "trestbps    0\n",
              "chol        0\n",
              "fbs         0\n",
              "restecg     0\n",
              "thalach     0\n",
              "exang       0\n",
              "oldpeak     0\n",
              "slope       0\n",
              "ca          0\n",
              "thal        0\n",
              "num         0\n",
              "dtype: int64"
            ]
          },
          "metadata": {},
          "execution_count": 7
        }
      ],
      "source": [
        "df.isnull().sum()"
      ]
    },
    {
      "cell_type": "code",
      "execution_count": null,
      "metadata": {
        "colab": {
          "base_uri": "https://localhost:8080/"
        },
        "id": "5vnIl8os50rm",
        "outputId": "e9231b48-2f0b-4147-f6d6-ef3c271e4e02"
      },
      "outputs": [
        {
          "output_type": "execute_result",
          "data": {
            "text/plain": [
              "hospital     age  sex  cp  trestbps  chol  fbs  restecg  thalach  exang  oldpeak  slope  ca  thal  num\n",
              "VA           58   1    3   150       219   0    1        118      1      0        ?      ?   ?     2      2\n",
              "Hungarian    49   0    2   110       ?     0    0        160      0      0        ?      ?   ?     0      2\n",
              "Cleveland    29   1    2   130       204   0    2        202      0      0        1      0   3     0      1\n",
              "Switzerland  47   1    3   155       0     0    0        118      1      1        2      ?   3     3      1\n",
              "             38   1    4   150       0     ?    0        120      1      ?        ?      ?   3     1      1\n",
              "                                                                                                         ..\n",
              "Hungarian    32   0    2   105       198   0    0        165      0      0        ?      ?   ?     0      1\n",
              "                  1    2   110       225   0    0        184      0      0        ?      ?   ?     0      1\n",
              "                           125       254   0    0        155      0      0        ?      ?   ?     0      1\n",
              "                       4   118       529   0    0        130      0      0        ?      ?   ?     1      1\n",
              "VA           77   1    4   124       171   0    1        110      1      2        1      ?   ?     3      1\n",
              "Length: 918, dtype: int64"
            ]
          },
          "metadata": {},
          "execution_count": 8
        }
      ],
      "source": [
        "df.value_counts()"
      ]
    },
    {
      "cell_type": "markdown",
      "metadata": {
        "id": "iAPxKQK350rm"
      },
      "source": [
        "By opening the dataset manually and looking through the values we came across a lot of \"?\" in various features. We have assumed here that the nan value were replaced by \"?\" at some point"
      ]
    },
    {
      "cell_type": "code",
      "execution_count": null,
      "metadata": {
        "colab": {
          "base_uri": "https://localhost:8080/"
        },
        "id": "AtS-ex5Y50rm",
        "outputId": "d1993bcb-d827-416e-c25b-9669cfb14d01"
      },
      "outputs": [
        {
          "output_type": "stream",
          "name": "stdout",
          "text": [
            "hospital 0 0.0\n",
            "age 0 0.0\n",
            "sex 0 0.0\n",
            "cp 0 0.0\n",
            "trestbps 59 6.41\n",
            "chol 30 3.26\n",
            "fbs 90 9.78\n",
            "restecg 2 0.22\n",
            "thalach 55 5.98\n",
            "exang 55 5.98\n",
            "oldpeak 62 6.74\n",
            "slope 309 33.59\n",
            "ca 611 66.41\n",
            "thal 486 52.83\n",
            "num 0 0.0\n"
          ]
        }
      ],
      "source": [
        "\n",
        "for i in df.columns:\n",
        "    print(i,df[i][df[i]==\"?\"].count(),round(df[i][df[i]==\"?\"].count()/df[i].count()*100,2))\n"
      ]
    },
    {
      "cell_type": "markdown",
      "metadata": {
        "id": "fjyh-CeW50rm"
      },
      "source": [
        "We can see that ca, thal and slope have a relatively larger proportion of missing values. For ca and thal more than 50% of their values are missing and it easy to justify dropping. We drop slope too as we replacing the it with median or mmode may make the model give one of its values more precedence . All the other columns have their \"?\" values replaced by their Mode"
      ]
    },
    {
      "cell_type": "code",
      "execution_count": null,
      "metadata": {
        "id": "YrrQWRzs50rm"
      },
      "outputs": [],
      "source": [
        "#dropping any columns with too many \"?\" values\n",
        "df=df.drop([\"ca\",\"thal\",\"slope\"],axis=1)\n",
        "\n",
        "#replacing the \"?\" values in the dataset with the mode of the column\n",
        "df=df.replace(\"?\",np.nan)\n",
        "df=df.fillna(df.mode().iloc[0])\n"
      ]
    },
    {
      "cell_type": "markdown",
      "metadata": {
        "id": "pJ4rVXkC50rn"
      },
      "source": [
        "## Preprocessing and Exploratory Data Analysis"
      ]
    },
    {
      "cell_type": "code",
      "execution_count": null,
      "metadata": {
        "id": "Tdx2YecS50rn"
      },
      "outputs": [],
      "source": [
        "Prep=df.copy()"
      ]
    },
    {
      "cell_type": "markdown",
      "metadata": {
        "id": "osJ36uMV50rn"
      },
      "source": [
        "Plotting hsitograms for the various columns to understand the distribution of data"
      ]
    },
    {
      "cell_type": "code",
      "execution_count": null,
      "metadata": {
        "colab": {
          "base_uri": "https://localhost:8080/",
          "height": 1000
        },
        "id": "oFxkB_Lz50rn",
        "outputId": "f55f776d-ff93-432c-f124-bb11787fffcc"
      },
      "outputs": [
        {
          "output_type": "display_data",
          "data": {
            "text/plain": [
              "<Figure size 2000x2000 with 12 Axes>"
            ],
            "image/png": "[encoded data removed]"
          },
          "metadata": {}
        }
      ],
      "source": [
        "\n",
        "fig,ax=plt.subplots(4,3,figsize=(20,20))\n",
        "ax=ax.flatten()\n",
        "for i in range(0,len(Prep.columns)-1):\n",
        "    sns.histplot(data=Prep,x=Prep.columns[i],ax=ax[i])\n",
        "plt.show()"
      ]
    },
    {
      "cell_type": "markdown",
      "metadata": {
        "id": "bQHcSvO750rn"
      },
      "source": [
        "We can see that age, trestbps ,chol ,thalach and oldpeak are numeric continous values while hospital , sex, fbs, restecg ,exang , cp are nominal categorical values."
      ]
    },
    {
      "cell_type": "code",
      "execution_count": null,
      "metadata": {
        "colab": {
          "base_uri": "https://localhost:8080/"
        },
        "id": "v7uLoh_A50rn",
        "outputId": "0a424a81-6d44-4dee-8a48-7a244b2f43e9"
      },
      "outputs": [
        {
          "output_type": "execute_result",
          "data": {
            "text/plain": [
              "Index(['hospital', 'age', 'sex', 'cp', 'trestbps', 'chol', 'fbs', 'restecg',\n",
              "       'thalach', 'exang', 'oldpeak', 'num'],\n",
              "      dtype='object')"
            ]
          },
          "metadata": {},
          "execution_count": 13
        }
      ],
      "source": [
        "cat_var=[\"hospital\",'sex', 'fbs', 'restecg', 'exang' ,\"cp\"]\n",
        "num_var=[\"age\", \"trestbps\", \"chol\", \"thalach\", \"oldpeak\"]\n",
        "Prep.columns"
      ]
    },
    {
      "cell_type": "markdown",
      "metadata": {
        "id": "p2c5Mc9u50rn"
      },
      "source": [
        "Most distributions appear to be well spread out and do not have any obvious anomalies. There is a spike at 0 for oldpeak and chol . cholestrol can never be 0 for a normal human and hence we replace it with the mean, Oldpeak is the ST depression caused by exercise denoted in 0.5 increments and it is possible for it to be undepressed or depressed by a very small margin"
      ]
    },
    {
      "cell_type": "code",
      "execution_count": null,
      "metadata": {
        "id": "pfmrnoE950rn"
      },
      "outputs": [],
      "source": [
        "# replace 0s in chol with mean of chol\n",
        "Prep[\"chol\"]=Prep[\"chol\"].replace(0,Prep[\"chol\"].mean())"
      ]
    },
    {
      "cell_type": "code",
      "execution_count": null,
      "metadata": {
        "colab": {
          "base_uri": "https://localhost:8080/",
          "height": 449
        },
        "id": "44-kWopX50rn",
        "outputId": "9fbe72ad-3e7f-495a-b3c1-5029654e3acc"
      },
      "outputs": [
        {
          "output_type": "display_data",
          "data": {
            "text/plain": [
              "<Figure size 640x480 with 1 Axes>"
            ],
            "image/png": "[encoded data removed]"
          },
          "metadata": {}
        }
      ],
      "source": [
        "sns.histplot(data=Prep,x=\"chol\")\n",
        "plt.show()"
      ]
    },
    {
      "cell_type": "code",
      "execution_count": null,
      "metadata": {
        "colab": {
          "base_uri": "https://localhost:8080/"
        },
        "id": "I8aiTCOr50rn",
        "outputId": "24e2ea7b-82d2-4918-ffa1-75a0765ed0a7"
      },
      "outputs": [
        {
          "output_type": "execute_result",
          "data": {
            "text/plain": [
              "0    0.446739\n",
              "1    0.288043\n",
              "2    0.118478\n",
              "3    0.116304\n",
              "4    0.030435\n",
              "Name: num, dtype: float64"
            ]
          },
          "metadata": {},
          "execution_count": 16
        }
      ],
      "source": [
        "#Normalized value counts of the target variable num\n",
        "Prep[\"num\"].value_counts(normalize=True)"
      ]
    },
    {
      "cell_type": "markdown",
      "metadata": {
        "id": "CFB8c0gh50rn"
      },
      "source": [
        "We see that the target is very heavily unbalanced in favour of 0 which is the value used to encode people not suffering from any heart disease. This unbalanced dataset will make any models trained on it to be heavily biased towards predicting that people do not suffer from any kind of heart disease . It will also be incapable of accurately predicitng of num=4 . So we binarize the num or target column to either 0 or 1 . Where 0 is still anyone who is not suffering from a heart disease and 1 is suffering from it , i.e. the union of 1,2,3,4."
      ]
    },
    {
      "cell_type": "code",
      "execution_count": null,
      "metadata": {
        "id": "eoS6Hxqg50ro"
      },
      "outputs": [],
      "source": [
        "#Binary encoding the target variable\n",
        "Prep[\"num\"]=Prep[\"num\"].replace([1,2,3,4],1)"
      ]
    },
    {
      "cell_type": "markdown",
      "metadata": {
        "id": "PxXBi0Im50ro"
      },
      "source": [
        " data handling for One hot encoding and further processing will be more convenient if we  encode the hospital strings with numbers insead . We also change the type of the categorical columns for the same reason."
      ]
    },
    {
      "cell_type": "code",
      "execution_count": null,
      "metadata": {
        "id": "EO_6MMPR50ro"
      },
      "outputs": [],
      "source": [
        "#convert hospital values to numeric\n",
        "Prep[\"hospital\"]=Prep[\"hospital\"].replace([\"Cleveland\",\"Hungarian\",\"Switzerland\",\"VA\"],[1,2,3,4])\n",
        "Prep[cat_var]=Prep[cat_var].astype(\"category\")"
      ]
    },
    {
      "cell_type": "markdown",
      "metadata": {
        "id": "nuVUWUj650ro"
      },
      "source": [
        "Here I am defining a function that uses Inter quartile range filtering to detect and removing any outliers"
      ]
    },
    {
      "cell_type": "code",
      "execution_count": null,
      "metadata": {
        "colab": {
          "base_uri": "https://localhost:8080/"
        },
        "id": "Yif5VmeX50ro",
        "outputId": "e4ca18f0-8201-4dff-b052-2cd47566d2fe"
      },
      "outputs": [
        {
          "output_type": "stream",
          "name": "stdout",
          "text": [
            "Number of outliers in  age is 0\n",
            "Number of outliers in  trestbps is 28\n",
            "Number of outliers in  chol is 18\n",
            "Number of outliers in  thalach is 2\n",
            "Number of outliers in  oldpeak is 13\n"
          ]
        }
      ],
      "source": [
        "def outlier_detection(df,columns):\n",
        "    for i in columns:\n",
        "        q1=df[i].quantile(0.25)\n",
        "        q3=df[i].quantile(0.75)\n",
        "        iqr=q3-q1\n",
        "        ub=q3+1.5*iqr\n",
        "        lb=q1-1.5*iqr\n",
        "        print(\"Number of outliers in \",i,\"is\",df[i][(df[i]<lb)|(df[i]>ub)].count())\n",
        "        df=df[(df[i]>lb)&(df[i]<ub)]\n",
        "    return df\n",
        "\n",
        "Prep=outlier_detection(Prep,[\"age\",\"trestbps\",\"chol\",\"thalach\",\"oldpeak\"])\n"
      ]
    },
    {
      "cell_type": "code",
      "execution_count": null,
      "metadata": {
        "id": "i1XMmIEl50ro"
      },
      "outputs": [],
      "source": [
        "Prep_Disc=Prep.copy()"
      ]
    },
    {
      "cell_type": "markdown",
      "metadata": {
        "id": "g7_F2Wmr50ro"
      },
      "source": [
        "We are dscretizing the numeric columns to reduce overfitting and making the data easier to handle with models. We have defined the size of the bins based on the normal ranges of these columns in a  healthy human.\n",
        "\n",
        "trestbps    - <120 : Normal , >120 & <140 : Unhealthy , >140 : Extremely Unhealthy \\\n",
        "chol        - <200 : Normal , >200 & <240 : Unhealthy , >240 : Extremely Unhealthy \\\n",
        "thalach     - <120 : Normal , >120 & <200 : Unhealthy , >200 : Extremely Unhealthy \\\n",
        "oldpeak     - <0 : Unhealthy , >0 & <1 : Normal , >240 : >1 & <3 : Unhealthy , >4 : Extremely Unhealthy\n",
        "\n",
        "\n",
        "The risk of having a heart attack increases exponentially with age . The lifetime probability of a heart attack is 49% for men and 32% for women. \"Only 20% percent of the people who die from Cardiovascular Disease are younger than 65 and almost all of them are between 40-65\" . Hence we decided on our split to club people between 0-40 together as the low risk group and club anyone over 60 as very high risk.\n",
        "\n",
        "src:https://www.ncbi.nlm.nih.gov/books/NBK554410/#:~:text=Age%3A%20CAD%20prevalence%20increases%20after,%25%20and%2032%25%2C%20respectively.\n",
        "\n",
        "\n"
      ]
    },
    {
      "cell_type": "code",
      "execution_count": null,
      "metadata": {
        "id": "nXcZZIC850ro"
      },
      "outputs": [],
      "source": [
        "\n",
        "Prep_Disc[\"age\"]=pd.cut(Prep[\"age\"],bins=[0,40,50,60,100],labels=[1,2,3,4])\n",
        "Prep_Disc[\"trestbps\"]=pd.cut(Prep[\"trestbps\"],bins=[0,120,140,240],labels=[1,2,3])\n",
        "Prep_Disc[\"chol\"]=pd.cut(Prep[\"chol\"],bins=[0,200,240,500],labels=[1,2,3])\n",
        "Prep_Disc[\"thalach\"]=pd.cut(Prep[\"thalach\"],bins=[0,120,150,250],labels=[1,2,3])\n",
        "Prep_Disc[\"oldpeak\"]=pd.cut(Prep[\"oldpeak\"],bins=[-2,0,1,3,4.5],labels=[1,2,3,4])\n",
        "\n",
        "\n"
      ]
    },
    {
      "cell_type": "markdown",
      "metadata": {
        "id": "HGrwqN-B50ro"
      },
      "source": [
        "We plot the various features coloured by the target variable to see what values are occupied by healthy people"
      ]
    },
    {
      "cell_type": "code",
      "execution_count": null,
      "metadata": {
        "colab": {
          "base_uri": "https://localhost:8080/",
          "height": 1000
        },
        "id": "tx9kC69s50ro",
        "outputId": "a5d6702d-673e-4c97-ab1c-43ee223afc41"
      },
      "outputs": [
        {
          "output_type": "display_data",
          "data": {
            "text/plain": [
              "<Figure size 2000x2000 with 12 Axes>"
            ],
            "image/png": "[encoded data removed]"
          },
          "metadata": {}
        }
      ],
      "source": [
        "\n",
        "fig,ax=plt.subplots(3,4,figsize=(20,20))\n",
        "ax=ax.flatten()\n",
        "for i in range(0,len(Prep_Disc.columns)-1):\n",
        "    sns.countplot(data=Prep_Disc,x=Prep_Disc.columns[i],hue=\"num\",ax=ax[i])\n"
      ]
    },
    {
      "cell_type": "markdown",
      "metadata": {
        "id": "yvcfNCkf50rs"
      },
      "source": [
        "Plotting correlation matrix for numerical variables age,trtbps,chol,thalach,oldpeak to see how they correlated they are to each other . We find that they are mostly ucorrelated with the highest magnitude being with age and thalach(max heart beats)"
      ]
    },
    {
      "cell_type": "code",
      "execution_count": null,
      "metadata": {
        "colab": {
          "base_uri": "https://localhost:8080/",
          "height": 435
        },
        "id": "Uit6NaK350rs",
        "outputId": "9571900e-f99d-45f1-9499-d373d8cf3d12"
      },
      "outputs": [
        {
          "output_type": "display_data",
          "data": {
            "text/plain": [
              "<Figure size 640x480 with 2 Axes>"
            ],
            "image/png": "[encoded data removed]"
          },
          "metadata": {}
        }
      ],
      "source": [
        "#plotting correlation matrix for numerical variables age,trtbps,chol,thalach,oldpeak\n",
        "sns.heatmap(Prep[num_var].corr(),annot=True)\n",
        "plt.show()\n"
      ]
    },
    {
      "cell_type": "markdown",
      "metadata": {
        "id": "Py0hGzPA50rs"
      },
      "source": [
        "Now we examine if these columns are correlated with the target variable"
      ]
    },
    {
      "cell_type": "code",
      "execution_count": null,
      "metadata": {
        "colab": {
          "base_uri": "https://localhost:8080/"
        },
        "id": "n0ZIhxuf50rs",
        "outputId": "cc693af3-507f-49de-d49d-eb49ec4559d2"
      },
      "outputs": [
        {
          "output_type": "execute_result",
          "data": {
            "text/plain": [
              "age         0.286710\n",
              "trestbps    0.068253\n",
              "chol       -0.030024\n",
              "thalach    -0.384518\n",
              "oldpeak     0.351351\n",
              "dtype: float64"
            ]
          },
          "metadata": {},
          "execution_count": 24
        }
      ],
      "source": [
        "#covaariance matrix for num and age,trtbps,chol,thalach,oldpeak\n",
        "Prep[num_var].corrwith(Prep[\"num\"])"
      ]
    },
    {
      "cell_type": "markdown",
      "metadata": {
        "id": "4hAidL8V50rs"
      },
      "source": [
        "For the various categorical tables we will use the chi2 test to find out what columns may be dependant on each other"
      ]
    },
    {
      "cell_type": "code",
      "execution_count": null,
      "metadata": {
        "colab": {
          "base_uri": "https://localhost:8080/"
        },
        "id": "aUaQsn0l50rs",
        "outputId": "d901656b-55a6-4c64-da23-b83a266b06ce"
      },
      "outputs": [
        {
          "output_type": "stream",
          "name": "stdout",
          "text": [
            "hospital and sex may be dependent\n",
            "hospital and fbs may be dependent\n",
            "hospital and restecg may be dependent\n",
            "hospital and exang may be dependent\n",
            "hospital and cp may be dependent\n",
            "sex and fbs may be dependent\n",
            "sex and exang may be dependent\n",
            "sex and cp may be dependent\n",
            "fbs and restecg may be dependent\n",
            "restecg and cp may be dependent\n",
            "exang and cp may be dependent\n"
          ]
        }
      ],
      "source": [
        "\n",
        "def chi_squared_test(series1, series2):\n",
        "    # Create contingency table\n",
        "    contingency_table = pd.crosstab(series1, series2)\n",
        "\n",
        "    # Calculate observed frequencies\n",
        "    observed = contingency_table.values\n",
        "\n",
        "    # Calculate expected frequencies\n",
        "    row_totals = contingency_table.sum(axis=1)\n",
        "    col_totals = contingency_table.sum(axis=0)\n",
        "    total = row_totals.sum()\n",
        "    expected = np.outer(row_totals, col_totals) / total\n",
        "\n",
        "    # Compute chi-squared statistic\n",
        "    chi_squared_stat = ((observed - expected)**2 / expected).sum()\n",
        "\n",
        "    # Compute degrees of freedom\n",
        "    dof = (len(row_totals) - 1) * (len(col_totals) - 1)\n",
        "\n",
        "    # Compute p-value using chi2 CDF\n",
        "    p_value = 1 - chi2.cdf(chi_squared_stat, dof)\n",
        "\n",
        "    return p_value\n",
        "\n",
        "#performing chi squared test for all the categorical variables\n",
        "cols=cat_var\n",
        "\n",
        "picked=[]\n",
        "for i in cols:\n",
        "    for j in cols:\n",
        "        if i!=j and (j,i) not in picked:\n",
        "            picked.append((i,j))\n",
        "            p=chi_squared_test(Prep_Disc[i],Prep[j])\n",
        "            if p<0.05:\n",
        "                print(i,\"and\",j,\"may be dependent\")\n"
      ]
    },
    {
      "cell_type": "code",
      "execution_count": null,
      "metadata": {
        "id": "CmAxJpfR50rt"
      },
      "outputs": [],
      "source": [
        "#Prep.drop(\"hospital\",axis=1,inplace=True)"
      ]
    },
    {
      "cell_type": "markdown",
      "metadata": {
        "id": "CUODt4hr50rt"
      },
      "source": [
        "We tried dropping th hospital column as it seems to be related to the largest no of columns here but we had no marked improvement in accuracy for Naive Bayes, Perceptron and ANNs while Extra Trees saw a slight decrease in accuracy hence we decided against dropping this column."
      ]
    },
    {
      "cell_type": "code",
      "execution_count": null,
      "metadata": {
        "colab": {
          "base_uri": "https://localhost:8080/"
        },
        "id": "ETLYsc5550rt",
        "outputId": "f76031e8-8580-409a-a299-45088e6ed0c6"
      },
      "outputs": [
        {
          "output_type": "stream",
          "name": "stdout",
          "text": [
            "hospital and num may be dependent\n",
            "sex and num may be dependent\n",
            "fbs and num may be dependent\n",
            "restecg and num may be dependent\n",
            "exang and num may be dependent\n",
            "cp and num may be dependent\n"
          ]
        }
      ],
      "source": [
        "#performing chi squared test for all the categorical variables\n",
        "cols=cat_var\n",
        "for i in cols:\n",
        "    p=chi_squared_test(Prep_Disc[i],Prep[\"num\"])\n",
        "    if p<0.05:\n",
        "        print(i,\"and\",\"num\",\"may be dependent\")\n",
        "    else:\n",
        "        print(i,\"and\",\"num\",\"are independent\")\n"
      ]
    },
    {
      "cell_type": "markdown",
      "metadata": {
        "id": "MG4vzZoc50rt"
      },
      "source": [
        "We now perform one hot encoding on all the nominal categorical variables"
      ]
    },
    {
      "cell_type": "code",
      "execution_count": null,
      "metadata": {
        "id": "WDEbgcOn50rt"
      },
      "outputs": [],
      "source": [
        "\n",
        "OHE_Prep=pd.get_dummies(Prep_Disc,columns=cat_var)"
      ]
    },
    {
      "cell_type": "code",
      "execution_count": null,
      "metadata": {
        "colab": {
          "base_uri": "https://localhost:8080/"
        },
        "id": "H8iT_JBI50rt",
        "outputId": "1bb9d6d2-a2c1-45be-dd37-5d1b26231c34"
      },
      "outputs": [
        {
          "output_type": "stream",
          "name": "stderr",
          "text": [
            "<ipython-input-29-15c4afd4e001>:1: DeprecationWarning: In a future version, `df.iloc[:, i] = newvals` will attempt to set the values inplace instead of always setting a new array. To retain the old behavior, use either `df[df.columns[i]] = newvals` or, if columns are non-unique, `df.isetitem(i, newvals)`\n",
            "  OHE_Prep.fillna(OHE_Prep.mode().iloc[0],inplace=True)\n"
          ]
        }
      ],
      "source": [
        "OHE_Prep.fillna(OHE_Prep.mode().iloc[0],inplace=True)\n",
        "OHE_Prep = OHE_Prep.astype('float32')"
      ]
    },
    {
      "cell_type": "code",
      "execution_count": null,
      "metadata": {
        "colab": {
          "base_uri": "https://localhost:8080/",
          "height": 255
        },
        "id": "gfTRmN-o50rt",
        "outputId": "2436c031-082d-444f-e054-13bf87209290"
      },
      "outputs": [
        {
          "output_type": "execute_result",
          "data": {
            "text/plain": [
              "   age  trestbps  chol  thalach  oldpeak  num  hospital_1  hospital_2  \\\n",
              "0  4.0       3.0   2.0      2.0      3.0  0.0         1.0         0.0   \n",
              "1  4.0       3.0   3.0      1.0      3.0  1.0         1.0         0.0   \n",
              "2  4.0       1.0   2.0      2.0      3.0  1.0         1.0         0.0   \n",
              "3  1.0       2.0   3.0      3.0      4.0  0.0         1.0         0.0   \n",
              "4  2.0       2.0   2.0      3.0      3.0  0.0         1.0         0.0   \n",
              "\n",
              "   hospital_3  hospital_4  ...  fbs_1.0  restecg_0.0  restecg_1.0  \\\n",
              "0         0.0         0.0  ...      1.0          0.0          0.0   \n",
              "1         0.0         0.0  ...      0.0          0.0          0.0   \n",
              "2         0.0         0.0  ...      0.0          0.0          0.0   \n",
              "3         0.0         0.0  ...      0.0          1.0          0.0   \n",
              "4         0.0         0.0  ...      0.0          0.0          0.0   \n",
              "\n",
              "   restecg_2.0  exang_0.0  exang_1.0  cp_1  cp_2  cp_3  cp_4  \n",
              "0          1.0        1.0        0.0   1.0   0.0   0.0   0.0  \n",
              "1          1.0        0.0        1.0   0.0   0.0   0.0   1.0  \n",
              "2          1.0        0.0        1.0   0.0   0.0   0.0   1.0  \n",
              "3          0.0        1.0        0.0   0.0   0.0   1.0   0.0  \n",
              "4          1.0        1.0        0.0   0.0   1.0   0.0   0.0  \n",
              "\n",
              "[5 rows x 23 columns]"
            ],
            "text/html": [
              "\n",
              "  <div id=\"df-7372ab36-dc57-4879-8bd1-6c4ec8c3904f\" class=\"colab-df-container\">\n",
              "    <div>\n",
              "<style scoped>\n",
              "    .dataframe tbody tr th:only-of-type {\n",
              "        vertical-align: middle;\n",
              "    }\n",
              "\n",
              "    .dataframe tbody tr th {\n",
              "        vertical-align: top;\n",
              "    }\n",
              "\n",
              "    .dataframe thead th {\n",
              "        text-align: right;\n",
              "    }\n",
              "</style>\n",
              "<table border=\"1\" class=\"dataframe\">\n",
              "  <thead>\n",
              "    <tr style=\"text-align: right;\">\n",
              "      <th></th>\n",
              "      <th>age</th>\n",
              "      <th>trestbps</th>\n",
              "      <th>chol</th>\n",
              "      <th>thalach</th>\n",
              "      <th>oldpeak</th>\n",
              "      <th>num</th>\n",
              "      <th>hospital_1</th>\n",
              "      <th>hospital_2</th>\n",
              "      <th>hospital_3</th>\n",
              "      <th>hospital_4</th>\n",
              "      <th>...</th>\n",
              "      <th>fbs_1.0</th>\n",
              "      <th>restecg_0.0</th>\n",
              "      <th>restecg_1.0</th>\n",
              "      <th>restecg_2.0</th>\n",
              "      <th>exang_0.0</th>\n",
              "      <th>exang_1.0</th>\n",
              "      <th>cp_1</th>\n",
              "      <th>cp_2</th>\n",
              "      <th>cp_3</th>\n",
              "      <th>cp_4</th>\n",
              "    </tr>\n",
              "  </thead>\n",
              "  <tbody>\n",
              "    <tr>\n",
              "      <th>0</th>\n",
              "      <td>4.0</td>\n",
              "      <td>3.0</td>\n",
              "      <td>2.0</td>\n",
              "      <td>2.0</td>\n",
              "      <td>3.0</td>\n",
              "      <td>0.0</td>\n",
              "      <td>1.0</td>\n",
              "      <td>0.0</td>\n",
              "      <td>0.0</td>\n",
              "      <td>0.0</td>\n",
              "      <td>...</td>\n",
              "      <td>1.0</td>\n",
              "      <td>0.0</td>\n",
              "      <td>0.0</td>\n",
              "      <td>1.0</td>\n",
              "      <td>1.0</td>\n",
              "      <td>0.0</td>\n",
              "      <td>1.0</td>\n",
              "      <td>0.0</td>\n",
              "      <td>0.0</td>\n",
              "      <td>0.0</td>\n",
              "    </tr>\n",
              "    <tr>\n",
              "      <th>1</th>\n",
              "      <td>4.0</td>\n",
              "      <td>3.0</td>\n",
              "      <td>3.0</td>\n",
              "      <td>1.0</td>\n",
              "      <td>3.0</td>\n",
              "      <td>1.0</td>\n",
              "      <td>1.0</td>\n",
              "      <td>0.0</td>\n",
              "      <td>0.0</td>\n",
              "      <td>0.0</td>\n",
              "      <td>...</td>\n",
              "      <td>0.0</td>\n",
              "      <td>0.0</td>\n",
              "      <td>0.0</td>\n",
              "      <td>1.0</td>\n",
              "      <td>0.0</td>\n",
              "      <td>1.0</td>\n",
              "      <td>0.0</td>\n",
              "      <td>0.0</td>\n",
              "      <td>0.0</td>\n",
              "      <td>1.0</td>\n",
              "    </tr>\n",
              "    <tr>\n",
              "      <th>2</th>\n",
              "      <td>4.0</td>\n",
              "      <td>1.0</td>\n",
              "      <td>2.0</td>\n",
              "      <td>2.0</td>\n",
              "      <td>3.0</td>\n",
              "      <td>1.0</td>\n",
              "      <td>1.0</td>\n",
              "      <td>0.0</td>\n",
              "      <td>0.0</td>\n",
              "      <td>0.0</td>\n",
              "      <td>...</td>\n",
              "      <td>0.0</td>\n",
              "      <td>0.0</td>\n",
              "      <td>0.0</td>\n",
              "      <td>1.0</td>\n",
              "      <td>0.0</td>\n",
              "      <td>1.0</td>\n",
              "      <td>0.0</td>\n",
              "      <td>0.0</td>\n",
              "      <td>0.0</td>\n",
              "      <td>1.0</td>\n",
              "    </tr>\n",
              "    <tr>\n",
              "      <th>3</th>\n",
              "      <td>1.0</td>\n",
              "      <td>2.0</td>\n",
              "      <td>3.0</td>\n",
              "      <td>3.0</td>\n",
              "      <td>4.0</td>\n",
              "      <td>0.0</td>\n",
              "      <td>1.0</td>\n",
              "      <td>0.0</td>\n",
              "      <td>0.0</td>\n",
              "      <td>0.0</td>\n",
              "      <td>...</td>\n",
              "      <td>0.0</td>\n",
              "      <td>1.0</td>\n",
              "      <td>0.0</td>\n",
              "      <td>0.0</td>\n",
              "      <td>1.0</td>\n",
              "      <td>0.0</td>\n",
              "      <td>0.0</td>\n",
              "      <td>0.0</td>\n",
              "      <td>1.0</td>\n",
              "      <td>0.0</td>\n",
              "    </tr>\n",
              "    <tr>\n",
              "      <th>4</th>\n",
              "      <td>2.0</td>\n",
              "      <td>2.0</td>\n",
              "      <td>2.0</td>\n",
              "      <td>3.0</td>\n",
              "      <td>3.0</td>\n",
              "      <td>0.0</td>\n",
              "      <td>1.0</td>\n",
              "      <td>0.0</td>\n",
              "      <td>0.0</td>\n",
              "      <td>0.0</td>\n",
              "      <td>...</td>\n",
              "      <td>0.0</td>\n",
              "      <td>0.0</td>\n",
              "      <td>0.0</td>\n",
              "      <td>1.0</td>\n",
              "      <td>1.0</td>\n",
              "      <td>0.0</td>\n",
              "      <td>0.0</td>\n",
              "      <td>1.0</td>\n",
              "      <td>0.0</td>\n",
              "      <td>0.0</td>\n",
              "    </tr>\n",
              "  </tbody>\n",
              "</table>\n",
              "<p>5 rows × 23 columns</p>\n",
              "</div>\n",
              "    <div class=\"colab-df-buttons\">\n",
              "\n",
              "  <div class=\"colab-df-container\">\n",
              "    <button class=\"colab-df-convert\" onclick=\"convertToInteractive('df-7372ab36-dc57-4879-8bd1-6c4ec8c3904f')\"\n",
              "            title=\"Convert this dataframe to an interactive table.\"\n",
              "            style=\"display:none;\">\n",
              "\n",
              "  <svg xmlns=\"http://www.w3.org/2000/svg\" height=\"24px\" viewBox=\"0 -960 960 960\">\n",
              "    <path d=\"M120-120v-720h720v720H120Zm60-500h600v-160H180v160Zm220 220h160v-160H400v160Zm0 220h160v-160H400v160ZM180-400h160v-160H180v160Zm440 0h160v-160H620v160ZM180-180h160v-160H180v160Zm440 0h160v-160H620v160Z\"/>\n",
              "  </svg>\n",
              "    </button>\n",
              "\n",
              "  <style>\n",
              "    .colab-df-container {\n",
              "      display:flex;\n",
              "      gap: 12px;\n",
              "    }\n",
              "\n",
              "    .colab-df-convert {\n",
              "      background-color: #E8F0FE;\n",
              "      border: none;\n",
              "      border-radius: 50%;\n",
              "      cursor: pointer;\n",
              "      display: none;\n",
              "      fill: #1967D2;\n",
              "      height: 32px;\n",
              "      padding: 0 0 0 0;\n",
              "      width: 32px;\n",
              "    }\n",
              "\n",
              "    .colab-df-convert:hover {\n",
              "      background-color: #E2EBFA;\n",
              "      box-shadow: 0px 1px 2px rgba(60, 64, 67, 0.3), 0px 1px 3px 1px rgba(60, 64, 67, 0.15);\n",
              "      fill: #174EA6;\n",
              "    }\n",
              "\n",
              "    .colab-df-buttons div {\n",
              "      margin-bottom: 4px;\n",
              "    }\n",
              "\n",
              "    [theme=dark] .colab-df-convert {\n",
              "      background-color: #3B4455;\n",
              "      fill: #D2E3FC;\n",
              "    }\n",
              "\n",
              "    [theme=dark] .colab-df-convert:hover {\n",
              "      background-color: #434B5C;\n",
              "      box-shadow: 0px 1px 3px 1px rgba(0, 0, 0, 0.15);\n",
              "      filter: drop-shadow(0px 1px 2px rgba(0, 0, 0, 0.3));\n",
              "      fill: #FFFFFF;\n",
              "    }\n",
              "  </style>\n",
              "\n",
              "    <script>\n",
              "      const buttonEl =\n",
              "        document.querySelector('#df-7372ab36-dc57-4879-8bd1-6c4ec8c3904f button.colab-df-convert');\n",
              "      buttonEl.style.display =\n",
              "        google.colab.kernel.accessAllowed ? 'block' : 'none';\n",
              "\n",
              "      async function convertToInteractive(key) {\n",
              "        const element = document.querySelector('#df-7372ab36-dc57-4879-8bd1-6c4ec8c3904f');\n",
              "        const dataTable =\n",
              "          await google.colab.kernel.invokeFunction('convertToInteractive',\n",
              "                                                    [key], {});\n",
              "        if (!dataTable) return;\n",
              "\n",
              "        const docLinkHtml = 'Like what you see? Visit the ' +\n",
              "          '<a target=\"_blank\" href=https://colab.research.google.com/notebooks/data_table.ipynb>data table notebook</a>'\n",
              "          + ' to learn more about interactive tables.';\n",
              "        element.innerHTML = '';\n",
              "        dataTable['output_type'] = 'display_data';\n",
              "        await google.colab.output.renderOutput(dataTable, element);\n",
              "        const docLink = document.createElement('div');\n",
              "        docLink.innerHTML = docLinkHtml;\n",
              "        element.appendChild(docLink);\n",
              "      }\n",
              "    </script>\n",
              "  </div>\n",
              "\n",
              "\n",
              "<div id=\"df-6152ed47-c8bb-4c93-988e-1dc6e445944a\">\n",
              "  <button class=\"colab-df-quickchart\" onclick=\"quickchart('df-6152ed47-c8bb-4c93-988e-1dc6e445944a')\"\n",
              "            title=\"Suggest charts\"\n",
              "            style=\"display:none;\">\n",
              "\n",
              "<svg xmlns=\"http://www.w3.org/2000/svg\" height=\"24px\"viewBox=\"0 0 24 24\"\n",
              "     width=\"24px\">\n",
              "    <g>\n",
              "        <path d=\"M19 3H5c-1.1 0-2 .9-2 2v14c0 1.1.9 2 2 2h14c1.1 0 2-.9 2-2V5c0-1.1-.9-2-2-2zM9 17H7v-7h2v7zm4 0h-2V7h2v10zm4 0h-2v-4h2v4z\"/>\n",
              "    </g>\n",
              "</svg>\n",
              "  </button>\n",
              "\n",
              "<style>\n",
              "  .colab-df-quickchart {\n",
              "      --bg-color: #E8F0FE;\n",
              "      --fill-color: #1967D2;\n",
              "      --hover-bg-color: #E2EBFA;\n",
              "      --hover-fill-color: #174EA6;\n",
              "      --disabled-fill-color: #AAA;\n",
              "      --disabled-bg-color: #DDD;\n",
              "  }\n",
              "\n",
              "  [theme=dark] .colab-df-quickchart {\n",
              "      --bg-color: #3B4455;\n",
              "      --fill-color: #D2E3FC;\n",
              "      --hover-bg-color: #434B5C;\n",
              "      --hover-fill-color: #FFFFFF;\n",
              "      --disabled-bg-color: #3B4455;\n",
              "      --disabled-fill-color: #666;\n",
              "  }\n",
              "\n",
              "  .colab-df-quickchart {\n",
              "    background-color: var(--bg-color);\n",
              "    border: none;\n",
              "    border-radius: 50%;\n",
              "    cursor: pointer;\n",
              "    display: none;\n",
              "    fill: var(--fill-color);\n",
              "    height: 32px;\n",
              "    padding: 0;\n",
              "    width: 32px;\n",
              "  }\n",
              "\n",
              "  .colab-df-quickchart:hover {\n",
              "    background-color: var(--hover-bg-color);\n",
              "    box-shadow: 0 1px 2px rgba(60, 64, 67, 0.3), 0 1px 3px 1px rgba(60, 64, 67, 0.15);\n",
              "    fill: var(--button-hover-fill-color);\n",
              "  }\n",
              "\n",
              "  .colab-df-quickchart-complete:disabled,\n",
              "  .colab-df-quickchart-complete:disabled:hover {\n",
              "    background-color: var(--disabled-bg-color);\n",
              "    fill: var(--disabled-fill-color);\n",
              "    box-shadow: none;\n",
              "  }\n",
              "\n",
              "  .colab-df-spinner {\n",
              "    border: 2px solid var(--fill-color);\n",
              "    border-color: transparent;\n",
              "    border-bottom-color: var(--fill-color);\n",
              "    animation:\n",
              "      spin 1s steps(1) infinite;\n",
              "  }\n",
              "\n",
              "  @keyframes spin {\n",
              "    0% {\n",
              "      border-color: transparent;\n",
              "      border-bottom-color: var(--fill-color);\n",
              "      border-left-color: var(--fill-color);\n",
              "    }\n",
              "    20% {\n",
              "      border-color: transparent;\n",
              "      border-left-color: var(--fill-color);\n",
              "      border-top-color: var(--fill-color);\n",
              "    }\n",
              "    30% {\n",
              "      border-color: transparent;\n",
              "      border-left-color: var(--fill-color);\n",
              "      border-top-color: var(--fill-color);\n",
              "      border-right-color: var(--fill-color);\n",
              "    }\n",
              "    40% {\n",
              "      border-color: transparent;\n",
              "      border-right-color: var(--fill-color);\n",
              "      border-top-color: var(--fill-color);\n",
              "    }\n",
              "    60% {\n",
              "      border-color: transparent;\n",
              "      border-right-color: var(--fill-color);\n",
              "    }\n",
              "    80% {\n",
              "      border-color: transparent;\n",
              "      border-right-color: var(--fill-color);\n",
              "      border-bottom-color: var(--fill-color);\n",
              "    }\n",
              "    90% {\n",
              "      border-color: transparent;\n",
              "      border-bottom-color: var(--fill-color);\n",
              "    }\n",
              "  }\n",
              "</style>\n",
              "\n",
              "  <script>\n",
              "    async function quickchart(key) {\n",
              "      const quickchartButtonEl =\n",
              "        document.querySelector('#' + key + ' button');\n",
              "      quickchartButtonEl.disabled = true;  // To prevent multiple clicks.\n",
              "      quickchartButtonEl.classList.add('colab-df-spinner');\n",
              "      try {\n",
              "        const charts = await google.colab.kernel.invokeFunction(\n",
              "            'suggestCharts', [key], {});\n",
              "      } catch (error) {\n",
              "        console.error('Error during call to suggestCharts:', error);\n",
              "      }\n",
              "      quickchartButtonEl.classList.remove('colab-df-spinner');\n",
              "      quickchartButtonEl.classList.add('colab-df-quickchart-complete');\n",
              "    }\n",
              "    (() => {\n",
              "      let quickchartButtonEl =\n",
              "        document.querySelector('#df-6152ed47-c8bb-4c93-988e-1dc6e445944a button');\n",
              "      quickchartButtonEl.style.display =\n",
              "        google.colab.kernel.accessAllowed ? 'block' : 'none';\n",
              "    })();\n",
              "  </script>\n",
              "</div>\n",
              "    </div>\n",
              "  </div>\n"
            ]
          },
          "metadata": {},
          "execution_count": 30
        }
      ],
      "source": [
        "OHE_Prep.head()"
      ]
    },
    {
      "cell_type": "code",
      "execution_count": null,
      "metadata": {
        "colab": {
          "base_uri": "https://localhost:8080/"
        },
        "id": "SHrQCvOK50rt",
        "outputId": "ab2d40ef-64db-4d40-b52c-19cbe18ba50e"
      },
      "outputs": [
        {
          "output_type": "execute_result",
          "data": {
            "text/plain": [
              "1.0    0.536982\n",
              "0.0    0.463018\n",
              "Name: num, dtype: float64"
            ]
          },
          "metadata": {},
          "execution_count": 31
        }
      ],
      "source": [
        "#import test train split\n",
        "from sklearn.model_selection import train_test_split\n",
        "np.random.seed(200)\n",
        "\n",
        "#splitting the data into train and test\n",
        "X=OHE_Prep.drop(\"num\",axis=1)\n",
        "y=OHE_Prep[\"num\"]\n",
        "X_train,X_test,Y_train,Y_test=train_test_split(X,y,test_size=0.2)\n",
        "\n",
        "def f1_score(y,ypred):\n",
        "    tp=0\n",
        "    fp=0\n",
        "    fn=0\n",
        "    tn=0\n",
        "    y=np.array(y)\n",
        "\n",
        "    ypred=np.array(ypred)\n",
        "    for i in range(len(y)):\n",
        "        if y[i]==1 and ypred[i]==1:\n",
        "            tp+=1\n",
        "        elif y[i]==0 and ypred[i]==1:\n",
        "            fp+=1\n",
        "        elif y[i]==1 and ypred[i]==0:\n",
        "            fn+=1\n",
        "        else:\n",
        "            tn+=1\n",
        "\n",
        "\n",
        "    precision=tp/(tp+fp)\n",
        "    recall=tp/(tp+fn)\n",
        "    f1_scores=2*precision*recall/(precision+recall)\n",
        "    accuracy=(tp+tn)/(tp+tn+fp+fn)\n",
        "\n",
        "    return accuracy,f1_scores\n",
        "\n",
        "Y_train.value_counts(\"num\")"
      ]
    },
    {
      "cell_type": "markdown",
      "metadata": {
        "id": "fj5mjuLo50rt"
      },
      "source": [
        "Defining some functions for evaluating models.The F1 score combines both precision and recall into a single metric, providing a metric to judge a model's ability to make accurate positive predictions while minimizing false positives and false negatives\n"
      ]
    },
    {
      "cell_type": "code",
      "execution_count": null,
      "metadata": {
        "id": "zS4xvXCR50rt"
      },
      "outputs": [],
      "source": [
        "def acc_f1_score(y,ypred):\n",
        "    tp=0\n",
        "    fp=0\n",
        "    fn=0\n",
        "    tn=0\n",
        "    y=np.array(y)\n",
        "\n",
        "    ypred=np.array(ypred)\n",
        "    for i in range(len(y)):\n",
        "        if y[i]==1 and ypred[i]==1:\n",
        "            tp+=1\n",
        "        elif y[i]==0 and ypred[i]==1:\n",
        "            fp+=1\n",
        "        elif y[i]==1 and ypred[i]==0:\n",
        "            fn+=1\n",
        "        else:\n",
        "            tn+=1\n",
        "\n",
        "\n",
        "    precision=tp/(tp+fp)\n",
        "    recall=tp/(tp+fn)\n",
        "    f1_scores=2*precision*recall/(precision+recall)\n",
        "    accuracy=(tp+tn)/(tp+tn+fp+fn)\n",
        "    confusion_matrix=np.array([[tp, fp], [fn, tn]])\n",
        "\n",
        "    return accuracy,f1_scores,confusion_matrix\n",
        "\n",
        "\n"
      ]
    },
    {
      "cell_type": "code",
      "execution_count": null,
      "metadata": {
        "colab": {
          "base_uri": "https://localhost:8080/",
          "height": 807
        },
        "id": "S8gxUcyU50ru",
        "outputId": "5796db54-3d61-49bd-83dd-f3b22e29424b"
      },
      "outputs": [
        {
          "output_type": "display_data",
          "data": {
            "text/plain": [
              "<Figure size 1000x1000 with 1 Axes>"
            ],
            "image/png": "[encoded data removed]"
          },
          "metadata": {}
        }
      ],
      "source": [
        "plt.figure(figsize=(10,10))\n",
        "plt.pie(Prep[\"num\"].value_counts(),labels=[\"0\",\"1\"],autopct=\"%1.2f%%\")\n",
        "plt.show()"
      ]
    },
    {
      "cell_type": "markdown",
      "metadata": {
        "id": "mMtHvp-n50ru"
      },
      "source": [
        "Checking if the data is still balanced after Preprocessing"
      ]
    },
    {
      "cell_type": "markdown",
      "metadata": {
        "id": "rDu7bwbNRhaK"
      },
      "source": [
        "# ***2. Naive Bayes***\n"
      ]
    },
    {
      "cell_type": "markdown",
      "metadata": {
        "id": "wRszQIQn50ru"
      },
      "source": [
        "The prior_prob function identifies the distinct classes within the target variable adn sorts them into a list. Then, it proceeds to compute the prior probabilities for each class. It does this by dividing the count of instances belonging to that class by the total number of instances in the dataset. Thw function outputs a list comprising these calculated prior probabilities, providing the likelihood of occurrence for each class ."
      ]
    },
    {
      "cell_type": "code",
      "execution_count": null,
      "metadata": {
        "id": "Y_IXcD1j50ru"
      },
      "outputs": [],
      "source": [
        "\n",
        "def prior_prob(data_set, targ):\n",
        "  classes = sorted(list(data_set[targ].unique()))\n",
        "  prior = []\n",
        "  for i in classes:\n",
        "    prior.append(len(data_set[targ] == i)/len(data_set))\n",
        "  return prior\n"
      ]
    },
    {
      "cell_type": "markdown",
      "metadata": {
        "id": "J3loceXN50ru"
      },
      "source": [
        "The likelihood_prob function identifies the available features within the dataset and proceeds to filter the dataset to instances where the target variable matches the specified class label. The next step involves computing the likelihood probability of a particular feature value given the specified class label. This probability is calculated as the ratio of instances where the feature is the specified value and the target variable matches the specified class label to the total count of instances where the target variable corresponds to the specified class label.\\\n",
        " Finally, the function returns the computed likelihood probability, providing insight into the probability of the feature assuming a specific value when the target variable corresponds to the designated class label."
      ]
    },
    {
      "cell_type": "code",
      "execution_count": null,
      "metadata": {
        "id": "ADIhzKg_50ru"
      },
      "outputs": [],
      "source": [
        "\n",
        "def likelihood_prob(data_set, feature, feature_val, targ, label):\n",
        "  feat = list(data_set.columns)\n",
        "  df = data_set[data_set[targ] == label]\n",
        "  p_x_y = (len(df[df[feature] == feature_val]) / len(df))\n",
        "  return p_x_y\n",
        "\n"
      ]
    },
    {
      "cell_type": "markdown",
      "metadata": {
        "id": "CTJb7J4b50ru"
      },
      "source": [
        "The NB_Category function predicts the target variable using the Naive Bayes method. Here's what it does:\n",
        "\n",
        "Initial Setup:\n",
        "\n",
        "Gets a list of feature names from the dataset.\n",
        "Calculates the prior probabilities for all classes using prior_prob.\n",
        "\n",
        "Prediction Process:\\\n",
        "Goes through each set of features x in the input.\n",
        "Calculates likelihood probabilities for each feature value using likelihood_prob.\n",
        "Making Predictions:\n",
        "\n",
        "Computes posterior probabilities by combining likelihoods and priors.\n",
        "Assigns the class with the highest probability as the prediction.\n"
      ]
    },
    {
      "cell_type": "code",
      "execution_count": null,
      "metadata": {
        "id": "X0WYajQZ50ru"
      },
      "outputs": [],
      "source": [
        "\n",
        "def NB_Category(data_set, X, targ):\n",
        "  feat = list(data_set.columns)[:-1]\n",
        "  prior = prior_prob(data_set, targ)\n",
        "  targ_pred = []\n",
        "\n",
        "  for x in X:\n",
        "    classes = sorted(list(data_set[targ].unique()))\n",
        "    likelihood = [1]*len(classes)\n",
        "    for j in range(len(classes)):\n",
        "      for i in range(len(feat)):\n",
        "        likelihood[j] *= likelihood_prob(data_set, feat[i], x[i], targ, classes[j])\n",
        "\n",
        "    post_prob = [1]*len(classes)\n",
        "    for j in range(len(classes)):\n",
        "      post_prob[j] = likelihood[j] * prior[j]\n",
        "\n",
        "    targ_pred.append(np.argmax(post_prob))\n",
        "  return np.array(targ_pred)\n",
        "\n"
      ]
    },
    {
      "cell_type": "code",
      "execution_count": null,
      "metadata": {
        "colab": {
          "base_uri": "https://localhost:8080/"
        },
        "id": "LR6RdfBT50ru",
        "outputId": "c72e4bb4-393e-4c57-a416-aea272a402e0"
      },
      "outputs": [
        {
          "output_type": "stream",
          "name": "stdout",
          "text": [
            "Accuracy is 0.7928994082840237\n",
            "F1 score is 0.8022598870056498\n",
            "Confusion matrix is \n",
            " [[71 14]\n",
            " [21 63]]\n"
          ]
        }
      ],
      "source": [
        "\n",
        "Y_pred = NB_Category(X_train.join(Y_train), X=X_test.values, targ= \"num\")\n",
        "\n",
        "\n",
        "NBacc,NBf1,NBcoonfm=acc_f1_score(Y_test, Y_pred)\n",
        "print(\"Accuracy is\",NBacc)\n",
        "print(\"F1 score is\",NBf1)\n",
        "print(\"Confusion matrix is \\n\",NBcoonfm)\n",
        "\n"
      ]
    },
    {
      "cell_type": "markdown",
      "metadata": {
        "id": "y81SQxOrRso5"
      },
      "source": [
        "# ***3. Perceptron***\n",
        "\n"
      ]
    },
    {
      "cell_type": "markdown",
      "metadata": {
        "id": "7th4CAZ950ru"
      },
      "source": [
        "This code provides a clear example of training a perceptron on a binary classification task and assessing its performance through accuracy tracking and visualization. The accuracy improvement plot is crucial for understanding how well the model is learning from the data. It uses the batch descent with the perceptron learning rule and a decaying alpaha value that efficiently finds the best values of the weights.\n",
        "\n",
        "The perceptron class has 3 variables weights , learning rate and accuracies over iterations. The training function shuffles the dataset at the start of each iteration and divides it into batches . It then uses these batches to calulate the error and in turn use the perceptron learning rule to update the weights for each batch."
      ]
    },
    {
      "cell_type": "code",
      "execution_count": null,
      "metadata": {
        "id": "ZHC4aOw250ru"
      },
      "outputs": [],
      "source": [
        "x_train=X_train.to_numpy()\n",
        "y_train=Y_train.to_numpy()\n",
        "x_test=X_test.to_numpy()\n",
        "y_test=Y_test.to_numpy()\n",
        "\n",
        "class Perceptron:\n",
        "    def __init__(self, num_features, learning_rate=0.001):\n",
        "        self.weights = np.zeros(num_features)\n",
        "        self.learning_rate = learning_rate\n",
        "        self.accuracies = []  # Store accuracies over iterations\n",
        "\n",
        "    def predict(self, features):\n",
        "        return 1 if np.dot(self.weights, features) >= 0 else 0\n",
        "\n",
        "    def train(self, X, y, num_iters, batch_size=32):\n",
        "        num_samples = len(X)\n",
        "        for _ in range(num_iters):\n",
        "            # Shuffle the data\n",
        "            indices = np.random.permutation(num_samples)\n",
        "            X = X[indices]\n",
        "            y = y[indices]\n",
        "\n",
        "\n",
        "            for i in range(0, num_samples, batch_size):\n",
        "                X_batch = X[i:i+batch_size]\n",
        "                y_batch = y[i:i+batch_size]\n",
        "                predictions = np.array([self.predict(x) for x in X_batch])\n",
        "                errors = y_batch - predictions\n",
        "                self.weights += self.learning_rate * np.dot(errors, X_batch)\n",
        "\n",
        "            # Calculate accuracy\n",
        "            predictions = np.array([self.predict(x) for x in X])\n",
        "            accuracy = np.mean(predictions == y)\n",
        "            self.accuracies.append(accuracy)\n",
        "\n",
        "            # Decay the learning rate\n",
        "            self.learning_rate *= 0.99\n",
        "\n",
        "\n"
      ]
    },
    {
      "cell_type": "code",
      "execution_count": null,
      "metadata": {
        "colab": {
          "base_uri": "https://localhost:8080/"
        },
        "id": "kUajvkFj50rv",
        "outputId": "173b6edc-1ede-48a0-9dda-13bc8db77bc6"
      },
      "outputs": [
        {
          "output_type": "stream",
          "name": "stdout",
          "text": [
            "No improvement for 10 iterations, stopping\n",
            "Accuracy is 0.7396449704142012\n",
            "F1 score is 0.8053097345132744\n",
            "Confusion matrix is \n",
            " [[91 43]\n",
            " [ 1 34]]\n"
          ]
        }
      ],
      "source": [
        "\n",
        "\n",
        "# Train the perceptron and track accuracy\n",
        "num_features = x_train.shape[1]\n",
        "perceptron = Perceptron(num_features)\n",
        "num_iters = 1000\n",
        "\n",
        "best_accuracy = 0\n",
        "best_weights = perceptron.weights\n",
        "no_improvement_streak = 0\n",
        "for iter in range(num_iters):\n",
        "    perceptron.train(x_train, y_train, 1)  # Train for 1 iteration\n",
        "    accuracy = perceptron.accuracies[-1]\n",
        "\n",
        "    if accuracy > best_accuracy:\n",
        "        best_accuracy = accuracy\n",
        "        best_weights = perceptron.weights\n",
        "        no_improvement_streak = 0\n",
        "    else:\n",
        "        no_improvement_streak += 1\n",
        "    if no_improvement_streak >= 10:\n",
        "        print(\"No improvement for 10 iterations, stopping\")\n",
        "        break\n",
        "\n",
        "\n",
        "# Evaluate the model\n",
        "correct = 0\n",
        "predictions=[]\n",
        "for i in range(len(x_test)):\n",
        "    prediction = perceptron.predict(x_test[i])\n",
        "    predictions.append(prediction)\n",
        "\n",
        "Pacc,Pf1,Pcoonfm=acc_f1_score(Y_test, predictions)\n",
        "print(\"Accuracy is\",Pacc)\n",
        "print(\"F1 score is\",Pf1)\n",
        "print(\"Confusion matrix is \\n\",Pcoonfm)\n"
      ]
    },
    {
      "cell_type": "markdown",
      "metadata": {
        "id": "HqIC34nWR-n7"
      },
      "source": [
        "# ***4. ANN***"
      ]
    },
    {
      "cell_type": "code",
      "execution_count": null,
      "metadata": {
        "id": "-hA5FysjSBzj"
      },
      "outputs": [],
      "source": [
        "\n",
        "AY_train = Y_train.values.reshape(-1,1)\n",
        "AY_test = Y_test.values.reshape(-1,1)\n",
        "\n",
        "def sigmoid(x):\n",
        "    z = 1 / (1 + np.exp(-x))\n",
        "    return z\n",
        "\n",
        "def dsigmoid(x):\n",
        "    z = x * (1 - x)\n",
        "    return z\n",
        "\n"
      ]
    },
    {
      "cell_type": "markdown",
      "metadata": {
        "id": "oATGl7ZP50rw"
      },
      "source": [
        "\n",
        "The binary crossentropy loss function  incorporates the difference between predicted probabilities and true labels in a binary classification problem and plays a crucial role in backpropagation through its derivative.Since log(0) is not defined epsilon is used to prevent any issues caused by very small probability values. Additionally, the use of `np.clip` ensures that predicted probabilities remain within 1 and 0.\n",
        "\n",
        "The derivative plays a important role in fine-tuning model parameters, including weights and biases, through optimization algorithms like gradient descent. When combined with the binary crossentropy loss function, it contributes to the step-by-step refinement of model parameters."
      ]
    },
    {
      "cell_type": "code",
      "execution_count": null,
      "metadata": {
        "id": "nSal9p3p50rw"
      },
      "outputs": [],
      "source": [
        "def binary_crossentropy(y_true, y_pred):\n",
        "    e = 1e-15  # Avoid division by zero\n",
        "    y_pred = np.clip(y_pred,e,1-e)\n",
        "    bce = -(y_true*np.log(y_pred)+(1-y_true)*np.log(1-y_pred))\n",
        "    return bce\n",
        "\n",
        "def dbinary_crossentropy(y_true, y_pred):\n",
        "    e = 1e-15  # Avoid division by zero\n",
        "    y_pred = np.clip(y_pred, e, 1 - e)\n",
        "    dbce =  (y_pred - y_true) / (y_pred * (1 - y_pred))\n",
        "    return dbce\n"
      ]
    },
    {
      "cell_type": "markdown",
      "metadata": {
        "id": "e6F9K_ed50rw"
      },
      "source": [
        "This function is utilized to initialize the neural network and assign random weights to the model."
      ]
    },
    {
      "cell_type": "code",
      "execution_count": null,
      "metadata": {
        "id": "SR-SZS0150rw"
      },
      "outputs": [],
      "source": [
        "def initialize_weights(input_size, hidden_size, output_size):\n",
        "    np.random.seed(42)\n",
        "    hidden_input_weights = np.random.randn(input_size, hidden_size)\n",
        "    hidden_biases = np.zeros((1, hidden_size))\n",
        "    hidden_weights_output = np.random.randn(hidden_size, output_size)\n",
        "    output_biases = np.zeros((1, output_size))\n",
        "    return hidden_input_weights, hidden_biases, hidden_weights_output, output_biases\n"
      ]
    },
    {
      "cell_type": "markdown",
      "metadata": {
        "id": "pzK-DVvN50rw"
      },
      "source": [
        "Forward propagation passes input through the various layers of the network to arrive at the output at the outermost neural layer. Here we are using the ReLU funcion as the activation fucntion of the network."
      ]
    },
    {
      "cell_type": "code",
      "execution_count": null,
      "metadata": {
        "id": "K7lHLc5050rw"
      },
      "outputs": [],
      "source": [
        "\n",
        "def forward_propagation(X, weights_input_hidden, biases_hidden, weights_hidden_output, biases_output):\n",
        "    hidden_layer_input = np.dot(X, weights_input_hidden) + biases_hidden\n",
        "    hidden_layer_output = np.maximum(0, hidden_layer_input)  # ReLU activation\n",
        "    output_layer_input = np.dot(hidden_layer_output, weights_hidden_output) + biases_output\n",
        "    predicted_output = sigmoid(output_layer_input)\n",
        "    return hidden_layer_input, hidden_layer_output, output_layer_input, predicted_output\n"
      ]
    },
    {
      "cell_type": "markdown",
      "metadata": {
        "id": "K0TCT5Ti50rw"
      },
      "source": [
        "The backward_propagation function is the next step in training a neural network. It involves computing the gradients of the loss with respect to the network's parameters for adjusting the weights and biases .It provides the necessary information to update the network's  weights and biases in the direction that reduces the loss. The calculated deltas are used in the subsequent step of parameter updates during optimization.\n",
        "\n",
        "The update_parameters function adjusts the weights and biases of the network based on the gradients calculated during the backward propagation step. This proceshelps the network learn and improve its performance on the training data."
      ]
    },
    {
      "cell_type": "code",
      "execution_count": null,
      "metadata": {
        "id": "0yqYj1W450rw"
      },
      "outputs": [],
      "source": [
        "def backward_propagation(X, Y, predicted_output, hidden_layer_output, weights_hidden_output):\n",
        "    output_error = dbinary_crossentropy(Y, predicted_output)\n",
        "    output_delta = output_error * dsigmoid(predicted_output)\n",
        "    hidden_error = output_delta.dot(weights_hidden_output.T)\n",
        "    hidden_delta = hidden_error * (hidden_layer_output > 0)  # ReLU derivative\n",
        "    return output_delta, hidden_delta\n",
        "\n",
        "def update_weights(X, hidden_layer_output, output_delta, hidden_delta, weights_input_hidden, biases_hidden, weights_hidden_output, biases_output, learning_rate):\n",
        "    weights_hidden_output -= learning_rate * hidden_layer_output.T.dot(output_delta)\n",
        "    biases_output -= learning_rate * np.sum(output_delta, axis=0, keepdims=True)\n",
        "    weights_input_hidden -= learning_rate * X.T.dot(hidden_delta)\n",
        "    biases_hidden -= learning_rate * np.sum(hidden_delta, axis=0, keepdims=True)\n",
        "\n"
      ]
    },
    {
      "cell_type": "markdown",
      "metadata": {
        "id": "yurOhece50rw"
      },
      "source": [
        "The train function represents the training loop of a neural network. By combining the forward and backward propagation steps, as well as parameter updates, it iteratively improves the model's performance."
      ]
    },
    {
      "cell_type": "code",
      "execution_count": null,
      "metadata": {
        "id": "g-IrNd_n50rx"
      },
      "outputs": [],
      "source": [
        "\n",
        "def train(X_train, Y_train, epochs, batch_size, learning_rate):\n",
        "    input_size = X_train.shape[1]\n",
        "    hidden_size = 5\n",
        "    output_size = 1\n",
        "\n",
        "    weights_input_hidden, biases_hidden, weights_hidden_output, biases_output = initialize_weights(input_size, hidden_size, output_size)\n",
        "\n",
        "    for epoch in range(epochs):\n",
        "        total_samples = len(X_train)\n",
        "        for i in range(0, total_samples, batch_size):\n",
        "            X_batch = X_train[i:i + batch_size]\n",
        "            Y_batch = Y_train[i:i + batch_size]\n",
        "\n",
        "            hidden_layer_input, hidden_layer_output, output_layer_input, predicted_output = forward_propagation(\n",
        "                X_batch, weights_input_hidden, biases_hidden, weights_hidden_output, biases_output)\n",
        "\n",
        "            loss = binary_crossentropy(Y_batch, predicted_output)\n",
        "\n",
        "            output_delta, hidden_delta = backward_propagation(X_batch, Y_batch, predicted_output, hidden_layer_output,weights_hidden_output)\n",
        "\n",
        "            update_weights(X_batch, hidden_layer_output, output_delta, hidden_delta, weights_input_hidden,biases_hidden, weights_hidden_output, biases_output, learning_rate)\n",
        "\n",
        "        predicted_train = predict(X_train, weights_input_hidden, biases_hidden, weights_hidden_output, biases_output)\n",
        "        predicted_train = (predicted_train > 0.5).astype(int)  # Convert to binary\n",
        "\n",
        "\n",
        "\n",
        "    return weights_input_hidden, biases_hidden, weights_hidden_output, biases_output\n",
        "\n",
        "def predict(X, weights_input_hidden, biases_hidden, weights_hidden_output, biases_output):\n",
        "    _, _, _, predicted_output = forward_propagation(X, weights_input_hidden, biases_hidden, weights_hidden_output, biases_output)\n",
        "    return predicted_output\n",
        "\n"
      ]
    },
    {
      "cell_type": "markdown",
      "metadata": {
        "id": "4YeJxREN50rx"
      },
      "source": [
        "Here we run the model for a 200 epochs with a batch size of 100 and learning rate of 0.001"
      ]
    },
    {
      "cell_type": "code",
      "execution_count": null,
      "metadata": {
        "colab": {
          "base_uri": "https://localhost:8080/"
        },
        "id": "_J-dVEqi50rx",
        "outputId": "5e434335-a938-4d7a-e4ea-5602d52b8dd6"
      },
      "outputs": [
        {
          "output_type": "stream",
          "name": "stdout",
          "text": [
            "Accuracy is 0.7633136094674556\n",
            "F1 score is 0.7752808988764044\n",
            "Confusion matrix is \n",
            " [[69 17]\n",
            " [23 60]]\n"
          ]
        }
      ],
      "source": [
        "\n",
        "epochs = 200\n",
        "batch_size = 10\n",
        "learning_rate = 0.001\n",
        "\n",
        "\n",
        "weights_input_hidden, biases_hidden, weights_hidden_output, biases_output = train(X_train, AY_train, epochs, batch_size, learning_rate)\n",
        "\n",
        "\n",
        "predicted_train = predict(X_train, weights_input_hidden, biases_hidden, weights_hidden_output, biases_output)\n",
        "predicted_test = predict(X_test, weights_input_hidden, biases_hidden, weights_hidden_output, biases_output)\n",
        "\n",
        "predicted_train = (predicted_train > 0.5).astype(int)\n",
        "predicted_test = (predicted_test > 0.5).astype(int)\n",
        "\n",
        "ANacc,ANf1,ANcoonfm=acc_f1_score(Y_test, predicted_test)\n",
        "print(\"Accuracy is\",ANacc)\n",
        "print(\"F1 score is\",ANf1)\n",
        "print(\"Confusion matrix is \\n\",ANcoonfm)"
      ]
    },
    {
      "cell_type": "markdown",
      "metadata": {
        "id": "8g7NxS5sSCRv"
      },
      "source": [
        "# ***5. Extremely Randomized Trees (Extra Trees)***"
      ]
    },
    {
      "cell_type": "markdown",
      "metadata": {
        "id": "KGq5b1AZ50rx"
      },
      "source": [
        "As per results obtained by \"Cardiovascular Disease Prediction System Using Extra Trees Classifier\" by Shafique et al. we realized that extra trees would be the ideal model for this dataset. They obtained accuraccies of 90%, 88%, 87% and 86% for  Extra trees , Logistic Classifier,  SVM , and Naive Bayes classifiers respectively.\n",
        "\n",
        "The Extra trees model is an ensemble that utilizes Decision Trees in a way similiar to random forests, it too creates multiple trees on the same data and uses a voting mechanism to determine the class of each example. It also randomly selects a subset of features at every node to decide the split.\n",
        "\n",
        "Where it differs from random forests is that Extra trees do not perform any kind of bootstrapping and instead build each tree on the entire dataset . Also where a random forest would choose the best split point for each feature using a heuristic like information gain extra trees selects the split point by random choice too.This  added randomness allows for us to reduce the variance of the model while slightly increasing the bias.\n"
      ]
    },
    {
      "cell_type": "markdown",
      "metadata": {
        "id": "mP4JiyTm50rx"
      },
      "source": [
        "Here I am defining some functions that I will use in my Extra Trees Model . The first one calculates the entropy(disorder) of a set of data based on a specific column while the other is jus used to make predictions based on trees"
      ]
    },
    {
      "cell_type": "code",
      "execution_count": null,
      "metadata": {
        "id": "LRQ1L5mT50rx"
      },
      "outputs": [],
      "source": [
        "\n",
        "def entropy_function(df,target):\n",
        "    entropy=0\n",
        "    for i in df[target].unique():\n",
        "        p_i=df[target].value_counts(normalize=True)[i]\n",
        "        entropy+=-p_i*np.log2(p_i)\n",
        "    return entropy\n",
        "\n",
        "\n",
        "def predict_row(tree, row):\n",
        "    if not isinstance(tree, dict):\n",
        "        return tree\n",
        "    for feature, subtree in tree.items():\n",
        "        if feature in row:\n",
        "            return predict_row(subtree.get(row[feature]), row)\n",
        "    return None\n",
        "\n",
        "def predict_row_et(tree, row):\n",
        "    if not isinstance(tree, dict):\n",
        "        return tree\n",
        "    for (feature, category), subtree in tree.items():\n",
        "        if feature in row:\n",
        "            if row[feature] == category:\n",
        "                return predict_row(subtree[0], row)\n",
        "            else:\n",
        "                return predict_row(subtree[1], row)\n",
        "    return None\n",
        "\n",
        "def extra_trees_prediction(trees, df):\n",
        "    predictions = []\n",
        "    for _, row in df.iterrows():\n",
        "        pred = []\n",
        "        for tree in trees:\n",
        "            prediction = predict_row_et(tree, row)\n",
        "            if prediction is not None:\n",
        "                pred.append(prediction)\n",
        "        if pred:\n",
        "            predictions.append(max(set(pred), key=pred.count))\n",
        "        else:\n",
        "            predictions.append(None)\n",
        "    return predictions\n",
        "\n"
      ]
    },
    {
      "cell_type": "markdown",
      "metadata": {
        "id": "0v4w-SLx50rx"
      },
      "source": [
        "Building the tree. max_depth is how deep a tree is allowed to build while min_samples_split determines how many  samples a node must have to be valid for further splitting and min_sample_leaf is the min number of samples a leaf must have . K is the number of fatures chosen at random for every split adn is by default the sqrt of the number of training features."
      ]
    },
    {
      "cell_type": "code",
      "execution_count": null,
      "metadata": {
        "id": "urhLHIKF50rx"
      },
      "outputs": [],
      "source": [
        "\n",
        "\n",
        "def extra_tree(df, target, max_depth, min_samples_split=30, min_samples_leaf=15, k=None):\n",
        "\n",
        "    if max_depth == 0 or df[target].nunique() == 1 or len(df) < min_samples_split:\n",
        "        return df[target].value_counts().idxmax()\n",
        "\n",
        "    else:\n",
        "        if k is None:\n",
        "            k = int(np.sqrt(len(df.columns) - 1))  # default to sqrt of number of features\n",
        "\n",
        "        features = np.random.choice(df.columns[df.columns != target], size=k, replace=False)\n",
        "\n",
        "        best_feature, best_split, best_entropy = None, None, np.inf\n",
        "        for feature in features:\n",
        "            # Choose a random split point for the feature\n",
        "            split = df[feature].sample(1).iloc[0]\n",
        "            left_df = df[df[feature] <= split]\n",
        "            right_df = df[df[feature] > split]\n",
        "            entropy = len(left_df) * entropy_function(left_df, target) + len(right_df) * entropy_function(right_df, target)\n",
        "            if entropy < best_entropy:\n",
        "                #choose random feature and split point that gives the lowest entropy\n",
        "                best_entropy = entropy\n",
        "                best_feature = feature\n",
        "                best_split = split\n",
        "        if best_feature is None:  # no valid split found\n",
        "            return df[target].value_counts().idxmax()\n",
        "        else:\n",
        "            #creating subtrees\n",
        "            left_df = df[df[best_feature] <= best_split]\n",
        "            right_df = df[df[best_feature] > best_split]\n",
        "            if len(left_df) < min_samples_leaf or len(right_df) < min_samples_leaf:\n",
        "                return df[target].value_counts().idxmax()\n",
        "            else:\n",
        "                return {(best_feature, best_split): [extra_tree(left_df, target, max_depth - 1, min_samples_split, min_samples_leaf, k),\n",
        "                                                     extra_tree(right_df, target, max_depth - 1, min_samples_split, min_samples_leaf, k)]}\n",
        "\n",
        "\n"
      ]
    },
    {
      "cell_type": "markdown",
      "metadata": {
        "id": "tC9_ZwVk50rx"
      },
      "source": [
        "Creating the extra tree classifier by creating a large number of extra trees"
      ]
    },
    {
      "cell_type": "code",
      "execution_count": null,
      "metadata": {
        "id": "zIly6dG850rx"
      },
      "outputs": [],
      "source": [
        "def extra_trees(df, target, n_trees, max_depth):\n",
        "    trees = []\n",
        "    for i in range(n_trees):\n",
        "        sample = df.sample(len(df), replace=True)\n",
        "        tree = extra_tree(sample, target, max_depth)\n",
        "        trees.append(tree)\n",
        "    return trees\n",
        "\n",
        "\n",
        "treeeee=extra_trees(X_train.join(Y_train),\"num\",1000,3)\n",
        "pred_val=extra_trees_prediction(treeeee,X_test)\n",
        "Dacc,Df1,Dcoonfm=acc_f1_score(Y_test, pred_val)\n",
        "print(\"Accuracy is\",Dacc)\n",
        "print(\"F1 score is\",Df1)\n",
        "print(\"Confusion matrix is \\n\",Dcoonfm)"
      ]
    },
    {
      "cell_type": "markdown",
      "metadata": {
        "id": "T_O_UfJm50ry"
      },
      "source": [
        "The accuracy of the model does not reach the levels displayed in the paper and we have a few possible explanations for it . Our code is not very effcient especially the entropy calculation and sub tree formation . This limits the feasibility of creating enough trees such that the we cover all possible combinations of splitting. We also have not been able to implement any kind of post pruning which may also benefit the accuracy of the model . Our feature selection could also have been another issue."
      ]
    },
    {
      "cell_type": "markdown",
      "metadata": {
        "id": "2p-mPVFCSe9V"
      },
      "source": [
        "# ***6. Comparison of insights drawn from the models***"
      ]
    },
    {
      "cell_type": "code",
      "execution_count": null,
      "metadata": {
        "id": "LTjoKWdNSpcE"
      },
      "outputs": [],
      "source": [
        "#comparing the various accuracies and fscores already defined\n",
        "accuracies = [NBacc, Pacc, ANacc, Dacc]\n",
        "fscores = [NBf1, Pf1, ANf1, Df1]\n",
        "models=[\"Naive Bayes\",\"Perceptron\",\"ANN\",\"Extra Trees\"]\n",
        "#pretty printing these accuracies and fscore values\n",
        "for i in range(len(accuracies)):\n",
        "    print(\"Accuracy of\",models[i],\"is\",accuracies[i])\n",
        "    print(\"F1 score of\",models[i],\"is\",fscores[i])\n",
        "    print()\n"
      ]
    },
    {
      "cell_type": "code",
      "execution_count": null,
      "metadata": {
        "id": "qyvbdyic50ry"
      },
      "outputs": [],
      "source": [
        "#printing the confusion matrices of the models\n",
        "print(\"Confusion matrix of Naive Bayes is \\n\",NBcoonfm)\n",
        "print(\"Confusion matrix of Perceptron is \\n\",Pcoonfm)\n",
        "print(\"Confusion matrix of ANN is \\n\",ANcoonfm)\n",
        "print(\"Confusion matrix of Extra Trees is \\n\",Dcoonfm)"
      ]
    },
    {
      "cell_type": "markdown",
      "metadata": {
        "id": "1zCtKDgk50ry"
      },
      "source": [
        "On comparing the accuracies and fscores of the various models we see that all the models bar ANN display the exact same Fscore. In terms of accuracy the Naive Bayes model is the best while ANN is a close second . While perceptron might be our worst performer in terms of accuracy the extra trees model displays a great variance in accuracy from run to run due to the random nature of the model being compounded by the fact that we are using a relatively small number of shallow trees.\n",
        "\n",
        "The results we have obtained seem to indicate that the Naive Bayes model would be the best classifier for this data which seems to be diametrically oppossed to the paper we cited earlier. However this may just be due to the relative simplicity and ease of implementing the Naive Bayes model as compared to the other models. The perceptron on the other hand may be too simple a model to actually capture the complexity of the data.\n",
        "\n",
        "The ANN model second to the Naive Bayes model and may be a better choice if we had more data to train on and tuned the hyperparameters better. The Extra Trees model is a good choice for this data as indicated by the paper but we have not been able to implement it to its full potential and hence it is not performing as well as it should."
      ]
    },
    {
      "cell_type": "code",
      "execution_count": null,
      "metadata": {
        "id": "e8QwGYXY50ry"
      },
      "outputs": [],
      "source": [
        "\n",
        "\n",
        "df = pd.DataFrame({\n",
        "    'Naive Bayes': [NBacc, NBf1],\n",
        "    'Perceptron': [Pacc, Pf1],\n",
        "    'ANN': [ANacc, ANf1],\n",
        "    'Extra Trees': [Dacc, Df1]\n",
        "}, index=['Accuracy', 'Fscore'])\n",
        "\n",
        "\n",
        "\n",
        "df_melt = df.reset_index().melt(id_vars='index', var_name='Model', value_name='Score')\n",
        "sns.barplot(x='Model', y='Score', hue='index', data=df_melt)\n",
        "\n",
        "plt.show()\n",
        "\n"
      ]
    },
    {
      "cell_type": "markdown",
      "metadata": {
        "id": "81SwQ_y4TaSc"
      },
      "source": [
        "# **_7. References_**\n",
        "\n",
        "1. [Numpy Documentation](https://numpy.org/doc/)\n",
        "2. [Pandas Documentation](https://pandas.pydata.org/docs/)\n",
        "3. [Matplotlib Documentation](https://matplotlib.org/3.3.3/contents.html)\n",
        "4. [Seaborn Documentation](https://seaborn.pydata.org/tutorial.html)\n",
        "5. [Risk Factors for Coronary Artery Disease](https://www.ncbi.nlm.nih.gov/books/NBK554410/)\n",
        "6. [Cardiovascular Disease Prediction System Using Extra Trees Classifier](https://www.researchgate.net/publication/344029928_Cardiovascular_Disease_Prediction_System_Using_Extra_Trees_Classifier)\n",
        "7. [Heart Disease UCI](https://www.kaggle.com/ronitf/heart-disease-uci)\n",
        "8. Geurts, P., Ernst, D. & Wehenkel, L. Extremely randomized trees. Mach Learn 63, 3–42 (2006). https://doi.org/10.1007/s10994-006-6226-1\n",
        "9. [Andrew Ng's Notes on Neural Networks](https://github.com/ashishpatel26/Andrew-NG-Notes/blob/master/andrewng-p-1-neural-network-deep-learning.md)\n",
        "10. [Machine Learning Mastery](https://machinelearningmastery.com/)\n",
        "11. [The Perceptron Algorithm: From Scratch Using Python](https://www.pycodemates.com/2022/12/perceptron-algorithm-understanding-and-implementation-python.html)\n",
        "12. [Naive Bayes Classifier from Scratch in Python](https://machinelearningmastery.com/naive-bayes-classifier-scratch-python/)\n",
        "13. [Neural Network from scratch in Python](https://towardsdatascience.com/neural-network-from-scratch-in-python-7b3dca6f8f17)\n",
        "14. [A Gentle Introduction to Cross-Entropy for Machine Learning](https://machinelearningmastery.com/cross-entropy-for-machine-learning/)\n",
        "\n"
      ]
    }
  ],
  "metadata": {
    "colab": {
      "provenance": []
    },
    "kernelspec": {
      "display_name": "Python 3",
      "name": "python3"
    },
    "language_info": {
      "codemirror_mode": {
        "name": "ipython",
        "version": 3
      },
      "file_extension": ".py",
      "mimetype": "text/x-python",
      "name": "python",
      "nbconvert_exporter": "python",
      "pygments_lexer": "ipython3",
      "version": "3.12.0"
    }
  },
  "nbformat": 4,
  "nbformat_minor": 0
}